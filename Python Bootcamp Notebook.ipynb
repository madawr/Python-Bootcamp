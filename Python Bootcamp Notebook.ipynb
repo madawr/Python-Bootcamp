{
 "cells": [
  {
   "cell_type": "markdown",
   "metadata": {},
   "source": [
    "# Bootcamp journey"
   ]
  },
  {
   "cell_type": "markdown",
   "metadata": {},
   "source": [
    "### Basics - variables and strings"
   ]
  },
  {
   "cell_type": "code",
   "execution_count": 8,
   "metadata": {},
   "outputs": [
    {
     "name": "stdout",
     "output_type": "stream",
     "text": [
      "Please enter the temperature in Fahrenheit:100\n",
      "100.0 Fahrenheit in Celsius is 37.77777777777778\n"
     ]
    }
   ],
   "source": [
    "# Converting fahrenheit to celsius\n",
    "far = float(input('Please enter the temperature in Fahrenheit:'))\n",
    "cel = (far - 32) * 5/9\n",
    "print(far, 'Fahrenheit in Celsius is', cel)\n"
   ]
  },
  {
   "cell_type": "code",
   "execution_count": 9,
   "metadata": {},
   "outputs": [
    {
     "name": "stdout",
     "output_type": "stream",
     "text": [
      "Please enter the first number:22\n",
      "Please enter the second number:12\n",
      "The sum of 22 and 12 is 34.\n"
     ]
    }
   ],
   "source": [
    "# Obtaining the sum of two integers\n",
    "num_1 = int(input('Please enter the first number:'))\n",
    "num_2 = int(input('Please enter the second number:'))\n",
    "print('The sum of ' + str(num_1) + ' and ' + str(num_2) + ' is ' + str(num_1 + num_2) + '.')\n",
    "\n"
   ]
  },
  {
   "cell_type": "code",
   "execution_count": 10,
   "metadata": {},
   "outputs": [
    {
     "name": "stdout",
     "output_type": "stream",
     "text": [
      "Please enter the first number:12\n",
      "Please enter the second number:14\n",
      "The product of 12 and 14 is 168\n"
     ]
    }
   ],
   "source": [
    "# Obtaining the product of two integers\n",
    "\n",
    "num_1 = int(input('Please enter the first number:'))\n",
    "num_2 = int(input('Please enter the second number:'))\n",
    "product = num_1 * num_2\n",
    "print('The product of', num_1, 'and', num_2, 'is', product)"
   ]
  },
  {
   "cell_type": "code",
   "execution_count": 11,
   "metadata": {},
   "outputs": [
    {
     "name": "stdout",
     "output_type": "stream",
     "text": [
      "Number of pizzas required is 3 there will be 2 remaining slices\n"
     ]
    }
   ],
   "source": [
    "# Using floor division ('//'): The lowest integer in the range\n",
    "#  Ann, Tom, John, Katie want to eat 4 slices of pizza each.\n",
    "# The pizza shop sells only pizzas in 6 slices\n",
    "# What is the minimum number of pizzas needed\n",
    "\n",
    "total_slices = 4 * 4\n",
    "number_of_pizzas = (total_slices + 5)//6\n",
    "slices_left = number_of_pizzas*6 - total_slices\n",
    "print('Number of pizzas required is',number_of_pizzas,'there will be', slices_left, 'remaining slices')"
   ]
  },
  {
   "cell_type": "markdown",
   "metadata": {},
   "source": [
    "### Conditionals"
   ]
  },
  {
   "cell_type": "code",
   "execution_count": 12,
   "metadata": {},
   "outputs": [
    {
     "data": {
      "text/plain": [
       "True"
      ]
     },
     "execution_count": 12,
     "metadata": {},
     "output_type": "execute_result"
    }
   ],
   "source": [
    "#Boolean expression \n",
    "3 == 3"
   ]
  },
  {
   "cell_type": "code",
   "execution_count": 13,
   "metadata": {},
   "outputs": [
    {
     "data": {
      "text/plain": [
       "False"
      ]
     },
     "execution_count": 13,
     "metadata": {},
     "output_type": "execute_result"
    }
   ],
   "source": [
    "3 == 2"
   ]
  },
  {
   "cell_type": "code",
   "execution_count": 14,
   "metadata": {},
   "outputs": [
    {
     "name": "stdout",
     "output_type": "stream",
     "text": [
      "x = 5 y = 6\n",
      "Checking less than with '<': True\n"
     ]
    }
   ],
   "source": [
    "x = 5\n",
    "y = 6\n",
    "#\n",
    "print('x =',x, 'y =', y)\n",
    "print('Checking less than with \\'<\\':', x < y)"
   ]
  },
  {
   "cell_type": "code",
   "execution_count": 15,
   "metadata": {},
   "outputs": [
    {
     "name": "stdout",
     "output_type": "stream",
     "text": [
      "Checking greater than with '>': False\n"
     ]
    }
   ],
   "source": [
    "print('Checking greater than with \\'>\\':', x > y)"
   ]
  },
  {
   "cell_type": "code",
   "execution_count": 16,
   "metadata": {},
   "outputs": [
    {
     "name": "stdout",
     "output_type": "stream",
     "text": [
      "var_1 = 7 var_2 =  7\n",
      "Checking equality with '==': True\n",
      "Checking not equal with '!=': False\n",
      "Checking less than or equal with '<==': True\n",
      "Checking greater than or equal with '>==': True\n"
     ]
    }
   ],
   "source": [
    "var_1 = 7\n",
    "var_2 = 7\n",
    "\n",
    "print('var_1 =', var_1, 'var_2 = ', var_2)\n",
    "print('Checking equality with \\'==\\':', var_1 == var_2)\n",
    "print('Checking not equal with \\'!=\\':', var_1 != var_2)\n",
    "print('Checking less than or equal with \\'<==\\':', var_1 <= var_2)\n",
    "print('Checking greater than or equal with \\'>==\\':', var_1 >= var_2)"
   ]
  },
  {
   "cell_type": "code",
   "execution_count": 17,
   "metadata": {},
   "outputs": [
    {
     "name": "stdout",
     "output_type": "stream",
     "text": [
      "Demonstrate that 'True' is Boolean in python with 'type(True)': <class 'bool'>\n"
     ]
    }
   ],
   "source": [
    "print('Demonstrate that \\'True\\' is Boolean in python with \\\n",
    "\\'type(True)\\':', type(True))"
   ]
  },
  {
   "cell_type": "code",
   "execution_count": 18,
   "metadata": {},
   "outputs": [
    {
     "name": "stdout",
     "output_type": "stream",
     "text": [
      "var_3 = 15 var_4 = 20 var_5 = 25\n",
      "\n"
     ]
    }
   ],
   "source": [
    "#Logial operators\n",
    "var_3, var_4, var_5 = 15, 20, 25\n",
    "##\n",
    "print('var_3 =', var_3, 'var_4 =', var_4, 'var_5 =', var_5, end = '\\n\\n')"
   ]
  },
  {
   "cell_type": "code",
   "execution_count": 19,
   "metadata": {
    "scrolled": true
   },
   "outputs": [
    {
     "name": "stdout",
     "output_type": "stream",
     "text": [
      "var_4 and var_5 < 100? True\n",
      "var_4 and var_5 < 22? False\n",
      "var_4 or var_5 < 22? True\n",
      "\n"
     ]
    }
   ],
   "source": [
    "#Combining two or more Boolean expressions with logical operators\n",
    "##\n",
    "print('var_4 and var_5 < 100?', var_4 < 100 and var_5 < 100 )\n",
    "print('var_4 and var_5 < 22?', var_4 < 22 and var_5 < 22 )\n",
    "print('var_4 or var_5 < 22?', var_4 < 22 or var_5 < 22, end = '\\n\\n')"
   ]
  },
  {
   "cell_type": "code",
   "execution_count": 20,
   "metadata": {},
   "outputs": [
    {
     "data": {
      "text/plain": [
       "True"
      ]
     },
     "execution_count": 20,
     "metadata": {},
     "output_type": "execute_result"
    }
   ],
   "source": [
    "#Not TRUE is FALSE\n",
    "3<4 and 5<6"
   ]
  },
  {
   "cell_type": "code",
   "execution_count": 21,
   "metadata": {},
   "outputs": [
    {
     "data": {
      "text/plain": [
       "False"
      ]
     },
     "execution_count": 21,
     "metadata": {},
     "output_type": "execute_result"
    }
   ],
   "source": [
    "3<4 and 6<5"
   ]
  },
  {
   "cell_type": "code",
   "execution_count": 22,
   "metadata": {},
   "outputs": [
    {
     "data": {
      "text/plain": [
       "True"
      ]
     },
     "execution_count": 22,
     "metadata": {},
     "output_type": "execute_result"
    }
   ],
   "source": [
    "3<4 or 6<5"
   ]
  },
  {
   "cell_type": "code",
   "execution_count": 23,
   "metadata": {},
   "outputs": [
    {
     "data": {
      "text/plain": [
       "True"
      ]
     },
     "execution_count": 23,
     "metadata": {},
     "output_type": "execute_result"
    }
   ],
   "source": [
    "#NOT negates the result of the condition NOT True = False, NOT False = True\n",
    "not False"
   ]
  },
  {
   "cell_type": "code",
   "execution_count": 24,
   "metadata": {},
   "outputs": [
    {
     "name": "stdout",
     "output_type": "stream",
     "text": [
      "not True is: False\n",
      "not False is: True\n",
      "\n"
     ]
    }
   ],
   "source": [
    "print('not True is:', not True)\n",
    "print('not False is:', not False, end = '\\n\\n')\n",
    "##"
   ]
  },
  {
   "cell_type": "code",
   "execution_count": 26,
   "metadata": {},
   "outputs": [
    {
     "name": "stdout",
     "output_type": "stream",
     "text": [
      "not(var_4 and var_5 < 100?) False\n",
      "not(var_4 and var_5 < 22?) True\n",
      "not(var_4 or var_5 < 22?) False\n"
     ]
    }
   ],
   "source": [
    "print('not(var_4 and var_5 < 100?)',not(var_4 < 100 and var_5 < 100))\n",
    "print('not(var_4 and var_5 < 22?)',not(var_4 < 22 and var_5 < 22))\n",
    "print('not(var_4 or var_5 < 22?)',not(var_4 <22 or var_5 < 22))"
   ]
  },
  {
   "cell_type": "code",
   "execution_count": 27,
   "metadata": {},
   "outputs": [
    {
     "data": {
      "text/plain": [
       "True"
      ]
     },
     "execution_count": 27,
     "metadata": {},
     "output_type": "execute_result"
    }
   ],
   "source": [
    "#(4>7)-->False\n",
    "#not(4>7)-->?True\n",
    "##\n",
    "True and not (4>7)"
   ]
  },
  {
   "cell_type": "code",
   "execution_count": 28,
   "metadata": {},
   "outputs": [
    {
     "data": {
      "text/plain": [
       "True"
      ]
     },
     "execution_count": 28,
     "metadata": {},
     "output_type": "execute_result"
    }
   ],
   "source": [
    "not False"
   ]
  },
  {
   "cell_type": "code",
   "execution_count": 29,
   "metadata": {},
   "outputs": [
    {
     "data": {
      "text/plain": [
       "True"
      ]
     },
     "execution_count": 29,
     "metadata": {},
     "output_type": "execute_result"
    }
   ],
   "source": [
    "True and True"
   ]
  },
  {
   "cell_type": "code",
   "execution_count": 31,
   "metadata": {},
   "outputs": [
    {
     "name": "stdout",
     "output_type": "stream",
     "text": [
      "The variable 'some_condition' is False\n"
     ]
    }
   ],
   "source": [
    "#IF statement\n",
    "#The default position of the 'if'statement is TRUE\n",
    "##\n",
    "some_condition = False\n",
    "if some_condition:\n",
    "    print('The variable \\'some_condition\\' is True')\n",
    "else:\n",
    "    print('The variable \\'some_condition\\' is False')"
   ]
  },
  {
   "cell_type": "code",
   "execution_count": 36,
   "metadata": {},
   "outputs": [
    {
     "name": "stdout",
     "output_type": "stream",
     "text": [
      "Please enter the temperature in Celsius. An integer between 0-40:>>> 2\n",
      "Too cold! Don't go out!\n"
     ]
    }
   ],
   "source": [
    "#IF statement example\n",
    "# What should I wear?\n",
    "temp = int(input('Please enter the temperature in Celsius. \\\n",
    "An integer between 0-40:>>> '))\n",
    "\n",
    "if temp > 30:\n",
    "    print('Wear shorts and sun cream!')\n",
    "elif temp <= 30 and temp > 20:\n",
    "    print('It\\'s warm, but not shorts weather!')\n",
    "elif temp <= 20 and temp > 10:\n",
    "    print('You\\'ll probably need a vest today!')\n",
    "else:\n",
    "    print('Too cold! Don\\'t go out!')"
   ]
  },
  {
   "cell_type": "code",
   "execution_count": 1,
   "metadata": {},
   "outputs": [
    {
     "data": {
      "text/plain": [
       "6"
      ]
     },
     "execution_count": 1,
     "metadata": {},
     "output_type": "execute_result"
    }
   ],
   "source": [
    "#Variable allocated in main memory\n",
    "#index numers correspond to letters\n",
    "my_string = 'Python'\n",
    "#length of the string\n",
    "len(my_string)"
   ]
  },
  {
   "cell_type": "code",
   "execution_count": 2,
   "metadata": {},
   "outputs": [
    {
     "data": {
      "text/plain": [
       "'P'"
      ]
     },
     "execution_count": 2,
     "metadata": {},
     "output_type": "execute_result"
    }
   ],
   "source": [
    "my_string[0]"
   ]
  },
  {
   "cell_type": "code",
   "execution_count": 3,
   "metadata": {},
   "outputs": [
    {
     "data": {
      "text/plain": [
       "'y'"
      ]
     },
     "execution_count": 3,
     "metadata": {},
     "output_type": "execute_result"
    }
   ],
   "source": [
    "my_string[1]\n"
   ]
  },
  {
   "cell_type": "code",
   "execution_count": 9,
   "metadata": {},
   "outputs": [
    {
     "data": {
      "text/plain": [
       "'Pyth'"
      ]
     },
     "execution_count": 9,
     "metadata": {},
     "output_type": "execute_result"
    }
   ],
   "source": [
    "#Any subgroup of the original string can be accessed\n",
    "#using string slicing\n",
    "\n",
    "my_string[0:4]"
   ]
  },
  {
   "cell_type": "code",
   "execution_count": 5,
   "metadata": {},
   "outputs": [
    {
     "data": {
      "text/plain": [
       "'Pyth'"
      ]
     },
     "execution_count": 5,
     "metadata": {},
     "output_type": "execute_result"
    }
   ],
   "source": [
    "my_string[:4]"
   ]
  },
  {
   "cell_type": "code",
   "execution_count": 6,
   "metadata": {},
   "outputs": [
    {
     "data": {
      "text/plain": [
       "'n'"
      ]
     },
     "execution_count": 6,
     "metadata": {},
     "output_type": "execute_result"
    }
   ],
   "source": [
    "my_string[-1]"
   ]
  },
  {
   "cell_type": "code",
   "execution_count": 7,
   "metadata": {},
   "outputs": [
    {
     "data": {
      "text/plain": [
       "'o'"
      ]
     },
     "execution_count": 7,
     "metadata": {},
     "output_type": "execute_result"
    }
   ],
   "source": [
    "my_string[-2]"
   ]
  },
  {
   "cell_type": "code",
   "execution_count": 8,
   "metadata": {},
   "outputs": [
    {
     "data": {
      "text/plain": [
       "'h'"
      ]
     },
     "execution_count": 8,
     "metadata": {},
     "output_type": "execute_result"
    }
   ],
   "source": [
    "letter = my_string[3]\n",
    "letter"
   ]
  },
  {
   "cell_type": "code",
   "execution_count": 10,
   "metadata": {},
   "outputs": [
    {
     "data": {
      "text/plain": [
       "False"
      ]
     },
     "execution_count": 10,
     "metadata": {},
     "output_type": "execute_result"
    }
   ],
   "source": [
    "#'Upper' converts the whole of the string to uppercase\n",
    "my_string.upper()\n",
    "'PYTHON'\n",
    "my_string.lower()\n",
    "'python'\n",
    "#lower case is not equal to the upper case\n",
    "'n'== 'N'"
   ]
  },
  {
   "cell_type": "code",
   "execution_count": 17,
   "metadata": {},
   "outputs": [
    {
     "name": "stdout",
     "output_type": "stream",
     "text": [
      "I'm thinking of a word, can you guess what it is? Hint it's a season.>>> SUMMER\n",
      "Yes, it's Summer: well done!\n"
     ]
    }
   ],
   "source": [
    "word = 'summer'\n",
    "guess = input('I\\'m thinking of a word, can you guess what it is? Hint \\\n",
    "it\\'s a season.>>> ')\n",
    "\n",
    "guess =  guess.lower()\n",
    "\n",
    "if guess == 'summer':\n",
    "    print('Yes, it\\'s Summer: well done!')\n",
    "elif guess == 'winter':\n",
    "    print('No,it\\'s not Winter. Sorry!')\n",
    "elif guess == 'spring':\n",
    "    print('No, it\\'s not Spring. Sorry!')\n",
    "else:\n",
    "    print(guess.capitalize(), 'is not a season!')"
   ]
  },
  {
   "cell_type": "code",
   "execution_count": 18,
   "metadata": {},
   "outputs": [],
   "source": [
    "#Indentation if(condition): new line(indented by 4 blank spaces)"
   ]
  },
  {
   "cell_type": "code",
   "execution_count": 7,
   "metadata": {},
   "outputs": [
    {
     "name": "stdout",
     "output_type": "stream",
     "text": [
      "Please enter an integer between 1-5:> 32\n",
      "Out of range\n"
     ]
    }
   ],
   "source": [
    "#Practice challenge(conditionals)\n",
    "\n",
    "#Question 1 \n",
    "#Asking the user to input a number between 1 and 5 inclusive.\n",
    "#The code will take the integer value and print out the string value.\n",
    "#e.g. if user inputs 2 the code will print two. Reject any input that is not a number in that range\n",
    "\n",
    "user_input = int(input('Please enter an integer between 1-5:> '))\n",
    "if user_input == 1:\n",
    "    print('one')\n",
    "elif user_input == 2:\n",
    "    print('two')\n",
    "elif user_input == 3:\n",
    "    print('three')\n",
    "elif user_input == 4:\n",
    "    print('four')\n",
    "elif user_input == 5:\n",
    "    print('five')\n",
    "else:\n",
    "    print('Out of range')\n",
    "    "
   ]
  },
  {
   "cell_type": "code",
   "execution_count": 12,
   "metadata": {},
   "outputs": [
    {
     "name": "stdout",
     "output_type": "stream",
     "text": [
      "Please enter a string between One and five:>three\n",
      "3\n"
     ]
    }
   ],
   "source": [
    "#Question 2\n",
    "#Repeating the previous task but this time the user will input\n",
    "#a string and the code will output the integer value.\n",
    "#convert the string to lowercase first\n",
    "\n",
    "user_input = input('Please enter a string between One and five:>')\n",
    "user_input = user_input.lower()\n",
    "if user_input == 'one':\n",
    "    print(1)\n",
    "elif user_input == 'two':\n",
    "    print(2)\n",
    "elif user_input == 'three':\n",
    "    print(3)\n",
    "elif user_input == 'four':\n",
    "    print(4)\n",
    "elif user_input == 'five':\n",
    "    print(5)\n",
    "else:\n",
    "    print('Out of range')"
   ]
  },
  {
   "cell_type": "code",
   "execution_count": 16,
   "metadata": {},
   "outputs": [
    {
     "name": "stdout",
     "output_type": "stream",
     "text": [
      "Guess the number between 1-10:>cat\n",
      "That's not even an integer! What are you playing at?!\n"
     ]
    }
   ],
   "source": [
    "#Question 3\n",
    "#Creating a variable containing an integer between 1 and 10 inclusive.\n",
    "#Ask the user to guess the number. If they guess too high or too low, tell them they\n",
    "#have not won. Tell them they win if they guess the correct number.\n",
    "\n",
    "secret_number = 6\n",
    "guess = input('Guess the number between 1-10:>')\n",
    "if guess.isdigit():\n",
    "    guess = int(guess)\n",
    "    if guess == secret_number:\n",
    "        print('You guessed the correct number! You win!')\n",
    "    elif guess > secret_number and guess <= 10:\n",
    "        print('You guessed to high. Sorry you lose!')\n",
    "    elif guess < secret_number and guess >= 1:\n",
    "        print('You guessed to low. Sorry you lose!')\n",
    "    else:\n",
    "        print('Out of range')\n",
    "else:\n",
    "    print('That\\'s not even an integer! What are you playing at?!')\n"
   ]
  },
  {
   "cell_type": "code",
   "execution_count": 21,
   "metadata": {},
   "outputs": [
    {
     "name": "stdout",
     "output_type": "stream",
     "text": [
      "Please enter your name:>Magdalena\n",
      "Your name contains 9 characters.\n"
     ]
    }
   ],
   "source": [
    "#Question 4\n",
    "#Asking the user to input their name. Check the length of the name.\n",
    "#If it is greater than 5 characters long, write a message telling them how many characters.\n",
    "#Otherwise write a message saying the length of their name is a secret\n",
    "\n",
    "name = input('Please enter your name:>')\n",
    "name_len = len(name)\n",
    "if name_len > 5:\n",
    "    print('Your name contains', name_len, 'characters.')\n",
    "else:\n",
    "    print('I\\'m not telling you the length of your name.')\n"
   ]
  },
  {
   "cell_type": "code",
   "execution_count": 24,
   "metadata": {},
   "outputs": [
    {
     "name": "stdout",
     "output_type": "stream",
     "text": [
      "Please enter an integer between 1-20:>1\n",
      "Please enter an integer between 1-20:>2\n",
      "0\n"
     ]
    }
   ],
   "source": [
    "#Question 5\n",
    "#Asking the user for two integers between 1 and 20. If they are both greater than\n",
    "#15 retun their product. If only one is greater than 15 return their sum, if neither are greater than 15 return zero\n",
    "\n",
    "int_1 = int(input('Please enter an integer between 1-20:>'))\n",
    "int_2 = int(input('Please enter an integer between 1-20:>'))\n",
    "\n",
    "if int_1 > 15 and int_2 > 15:\n",
    "    print(int_1 * int_2)\n",
    "elif int_1 > 15 or int_2 > 15:\n",
    "    print(int_1 + int_2)\n",
    "else:\n",
    "    print(0)\n"
   ]
  },
  {
   "cell_type": "code",
   "execution_count": 25,
   "metadata": {},
   "outputs": [
    {
     "name": "stdout",
     "output_type": "stream",
     "text": [
      "Please enter first integer:>2\n",
      "Please enter second integer:>5\n",
      "Before swapping int_1= 2 and int_2 = 5\n",
      "After swapping int_1= 5 and int_2= 2\n"
     ]
    }
   ],
   "source": [
    "#Question 6\n",
    "#Asking user for two integers, the swapping the contents of the veriables.\n",
    "#So if var_1 = 1 and var_2 = 2 initially, once the code has run var_1 should equal 2\n",
    "#and var_2 should equal 1.\n",
    "\n",
    "int_1 = int(input('Please enter first integer:>'))\n",
    "int_2 = int(input('Please enter second integer:>'))\n",
    "print('Before swapping int_1=', int_1, 'and int_2 =', int_2)\n",
    "int_1, int_2 = int_2, int_1\n",
    "print('After swapping int_1=', int_1, 'and int_2=', int_2)\n"
   ]
  },
  {
   "cell_type": "markdown",
   "metadata": {},
   "source": [
    "### Lists and Loops"
   ]
  },
  {
   "cell_type": "code",
   "execution_count": 27,
   "metadata": {},
   "outputs": [
    {
     "name": "stdout",
     "output_type": "stream",
     "text": [
      "0 1 2 3 4 5 6 7 8 9 "
     ]
    }
   ],
   "source": [
    "#For Loops\n",
    "for i in range(10):\n",
    "    print(i, end=' ')"
   ]
  },
  {
   "cell_type": "code",
   "execution_count": 29,
   "metadata": {},
   "outputs": [
    {
     "name": "stdout",
     "output_type": "stream",
     "text": [
      "1 2 3 4 5 6 7 8 9 10 "
     ]
    }
   ],
   "source": [
    "for i in range(1,11):\n",
    "    print(i, end=' ')"
   ]
  },
  {
   "cell_type": "code",
   "execution_count": 31,
   "metadata": {},
   "outputs": [
    {
     "name": "stdout",
     "output_type": "stream",
     "text": [
      "0 4 8 12 16 20 24 28 32 36 40 44 48 52 56 60 64 68 72 76 80 84 88 92 96 100 "
     ]
    }
   ],
   "source": [
    "for i in range(0, 101, 4):\n",
    "    print(i, end=' ')"
   ]
  },
  {
   "cell_type": "code",
   "execution_count": 32,
   "metadata": {},
   "outputs": [
    {
     "name": "stdout",
     "output_type": "stream",
     "text": [
      "100 99 98 97 96 95 94 93 92 91 90 89 88 87 86 85 84 83 82 81 80 79 78 77 76 75 74 73 72 71 70 69 68 67 66 65 64 63 62 61 60 59 58 57 56 55 54 53 52 51 50 49 48 47 46 45 44 43 42 41 40 39 38 37 36 35 34 33 32 31 30 29 28 27 26 25 24 23 22 21 20 19 18 17 16 15 14 13 12 11 10 9 8 7 6 5 4 3 2 1 "
     ]
    }
   ],
   "source": [
    "#Going backwards in a 'for' loop \n",
    "for i in range(100, 0, -1):\n",
    "    print(i, end=' ')"
   ]
  },
  {
   "cell_type": "code",
   "execution_count": 33,
   "metadata": {},
   "outputs": [
    {
     "name": "stdout",
     "output_type": "stream",
     "text": [
      "p\n",
      "y\n",
      "t\n",
      "h\n",
      "o\n",
      "n\n"
     ]
    }
   ],
   "source": [
    "word = 'python'\n",
    "\n",
    "for i in word:\n",
    "    print(i)"
   ]
  },
  {
   "cell_type": "code",
   "execution_count": 34,
   "metadata": {},
   "outputs": [
    {
     "name": "stdout",
     "output_type": "stream",
     "text": [
      "p\n",
      "y\n",
      "t\n",
      "h\n",
      "o\n",
      "n\n"
     ]
    }
   ],
   "source": [
    "for char in word:\n",
    "    print(char)"
   ]
  },
  {
   "cell_type": "code",
   "execution_count": 36,
   "metadata": {},
   "outputs": [
    {
     "name": "stdout",
     "output_type": "stream",
     "text": [
      "x= 6\n"
     ]
    }
   ],
   "source": [
    "#Variables\n",
    "#incrementing x by 1\n",
    "x = 5\n",
    "x = x + 1\n",
    "\n",
    "print('x=', x)"
   ]
  },
  {
   "cell_type": "code",
   "execution_count": 37,
   "metadata": {},
   "outputs": [
    {
     "name": "stdout",
     "output_type": "stream",
     "text": [
      "x= 7\n"
     ]
    }
   ],
   "source": [
    "x += 1\n",
    "print('x=',x)"
   ]
  },
  {
   "cell_type": "code",
   "execution_count": 38,
   "metadata": {},
   "outputs": [
    {
     "name": "stdout",
     "output_type": "stream",
     "text": [
      "y = 7\n"
     ]
    }
   ],
   "source": [
    "y = x\n",
    "\n",
    "print('y =',y)"
   ]
  },
  {
   "cell_type": "code",
   "execution_count": 40,
   "metadata": {},
   "outputs": [
    {
     "data": {
      "text/plain": [
       "12"
      ]
     },
     "execution_count": 40,
     "metadata": {},
     "output_type": "execute_result"
    }
   ],
   "source": [
    "#Lists\n",
    "#soting several pirces of information in one veriable\n",
    "\n",
    "data = [12,15,52,63,90,32,84]\n",
    "\n",
    "data[0]\n"
   ]
  },
  {
   "cell_type": "code",
   "execution_count": 41,
   "metadata": {},
   "outputs": [
    {
     "data": {
      "text/plain": [
       "52"
      ]
     },
     "execution_count": 41,
     "metadata": {},
     "output_type": "execute_result"
    }
   ],
   "source": [
    "data[2]"
   ]
  },
  {
   "cell_type": "code",
   "execution_count": 42,
   "metadata": {},
   "outputs": [
    {
     "data": {
      "text/plain": [
       "32"
      ]
     },
     "execution_count": 42,
     "metadata": {},
     "output_type": "execute_result"
    }
   ],
   "source": [
    "data[5]"
   ]
  },
  {
   "cell_type": "code",
   "execution_count": 43,
   "metadata": {},
   "outputs": [
    {
     "data": {
      "text/plain": [
       "84"
      ]
     },
     "execution_count": 43,
     "metadata": {},
     "output_type": "execute_result"
    }
   ],
   "source": [
    "data[-1]"
   ]
  },
  {
   "cell_type": "code",
   "execution_count": 44,
   "metadata": {},
   "outputs": [
    {
     "data": {
      "text/plain": [
       "[12, 15, 52, 63, 90]"
      ]
     },
     "execution_count": 44,
     "metadata": {},
     "output_type": "execute_result"
    }
   ],
   "source": [
    "data[0:5]"
   ]
  },
  {
   "cell_type": "code",
   "execution_count": 47,
   "metadata": {},
   "outputs": [
    {
     "data": {
      "text/plain": [
       "[63, 90]"
      ]
     },
     "execution_count": 47,
     "metadata": {},
     "output_type": "execute_result"
    }
   ],
   "source": [
    "data[-4:-2]"
   ]
  },
  {
   "cell_type": "code",
   "execution_count": 48,
   "metadata": {},
   "outputs": [
    {
     "name": "stdout",
     "output_type": "stream",
     "text": [
      "12 15 52 63 90 32 84 "
     ]
    }
   ],
   "source": [
    "for num in data:\n",
    "    print(num, end=' ')"
   ]
  },
  {
   "cell_type": "code",
   "execution_count": 49,
   "metadata": {},
   "outputs": [
    {
     "name": "stdout",
     "output_type": "stream",
     "text": [
      "The sum of 'data' is: 348\n"
     ]
    }
   ],
   "source": [
    "#total starts at zero\n",
    "#loop and list\n",
    "total = 0\n",
    "for num in data:\n",
    "    total = total + num\n",
    "print('The sum of \\'data\\' is:', total)"
   ]
  },
  {
   "cell_type": "code",
   "execution_count": 50,
   "metadata": {},
   "outputs": [
    {
     "name": "stdout",
     "output_type": "stream",
     "text": [
      "total_2 = 348\n"
     ]
    }
   ],
   "source": [
    "total_2 = sum(data)\n",
    "print('total_2 =', total_2)"
   ]
  },
  {
   "cell_type": "code",
   "execution_count": 51,
   "metadata": {},
   "outputs": [
    {
     "name": "stdout",
     "output_type": "stream",
     "text": [
      "Max value is 90\n"
     ]
    }
   ],
   "source": [
    "find_max = 0\n",
    "for num in data:\n",
    "    if num > find_max:\n",
    "        find_max = num\n",
    "print('Max value is', find_max)\n",
    "#can't be used for negative numbers"
   ]
  },
  {
   "cell_type": "code",
   "execution_count": 52,
   "metadata": {},
   "outputs": [
    {
     "name": "stdout",
     "output_type": "stream",
     "text": [
      "Max value using Python function 'max()' 90\n"
     ]
    }
   ],
   "source": [
    "print('Max value using Python function \\'max()\\'', max(data))"
   ]
  },
  {
   "cell_type": "code",
   "execution_count": 59,
   "metadata": {},
   "outputs": [
    {
     "name": "stdout",
     "output_type": "stream",
     "text": [
      "1\n",
      "23\n",
      "\n",
      "23\n",
      "25\n",
      "\n",
      "25\n",
      "26\n",
      "\n",
      "26\n",
      "30\n",
      "\n",
      "30\n",
      "41\n",
      "\n"
     ]
    }
   ],
   "source": [
    "#Range function\n",
    "my_list = [1,23,25,26,30,41]\n",
    "for i in range(5):\n",
    "    print(my_list[i])\n",
    "    print(my_list[i+1])\n",
    "    print()"
   ]
  },
  {
   "cell_type": "code",
   "execution_count": 11,
   "metadata": {},
   "outputs": [
    {
     "name": "stdout",
     "output_type": "stream",
     "text": [
      "[12, 15, 32, 52, 63, 84, 90]\n"
     ]
    }
   ],
   "source": [
    "#'For' loop and list\n",
    "## Bubble sort\n",
    "\n",
    "data = [12,15,52,63,90,32,84]\n",
    "\n",
    "data_copy = data[:]\n",
    "for i in range(len(data_copy)):\n",
    "    for j in range(0, len(data_copy)-i-1):\n",
    "        if data_copy[j] > data_copy [j+1]:\n",
    "            data_copy[j], data_copy[j+1] = data_copy[j+1], data_copy[j]\n",
    "            \n",
    "print(data_copy)"
   ]
  },
  {
   "cell_type": "code",
   "execution_count": 12,
   "metadata": {},
   "outputs": [
    {
     "name": "stdout",
     "output_type": "stream",
     "text": [
      "[12, 15, 32, 52, 63, 84, 90]\n"
     ]
    }
   ],
   "source": [
    "#sorting function\n",
    "print(sorted(data))"
   ]
  },
  {
   "cell_type": "code",
   "execution_count": 28,
   "metadata": {},
   "outputs": [
    {
     "name": "stdout",
     "output_type": "stream",
     "text": [
      "[100, 73, 63]\n"
     ]
    }
   ],
   "source": [
    "#Common list methods\n",
    "#append method\n",
    "\n",
    "my_list = [35,63,73]\n",
    "#\n",
    "my_list.append(100)\n",
    "#\n",
    "my_list.remove(35)\n",
    "#\n",
    "my_list.reverse()\n",
    "#\n",
    "print(my_list)\n"
   ]
  },
  {
   "cell_type": "code",
   "execution_count": 25,
   "metadata": {},
   "outputs": [
    {
     "name": "stdout",
     "output_type": "stream",
     "text": [
      "2\n"
     ]
    }
   ],
   "source": [
    "print(my_list.index(100))\n",
    "#returning index value of a number: 100"
   ]
  },
  {
   "cell_type": "code",
   "execution_count": 31,
   "metadata": {},
   "outputs": [
    {
     "name": "stdout",
     "output_type": "stream",
     "text": [
      "10\n",
      "9\n",
      "8\n",
      "7\n",
      "6\n",
      "5\n",
      "4\n",
      "3\n",
      "2\n",
      "1\n"
     ]
    }
   ],
   "source": [
    "#While loops\n",
    "#Going through a loop until a condition is or is not true\n",
    "\n",
    "n = 10\n",
    "\n",
    "while n > 0:\n",
    "    print(n)\n",
    "    n = n-1"
   ]
  },
  {
   "cell_type": "code",
   "execution_count": 37,
   "metadata": {},
   "outputs": [
    {
     "name": "stdout",
     "output_type": "stream",
     "text": [
      "Please enter ages of class member. Type -1 to end32\n",
      "The next age:>23\n",
      "The next age:>55\n",
      "The next age:>73\n",
      "The next age:>25\n",
      "The next age:>34\n",
      "The next age:>34\n",
      "The next age:>45\n",
      "The next age:>-1\n",
      "The ages are [32, 23, 55, 73, 25, 34, 34, 45]\n"
     ]
    }
   ],
   "source": [
    "user_input = int(input('Please enter ages of class member. Type -1 to end'))\n",
    "ages = []\n",
    "while user_input > 0:\n",
    "    ages.append(user_input)\n",
    "    user_input = int(input('The next age:>'))\n",
    "print('The ages are', ages)"
   ]
  },
  {
   "cell_type": "code",
   "execution_count": 39,
   "metadata": {},
   "outputs": [
    {
     "name": "stdout",
     "output_type": "stream",
     "text": [
      "Please enter name type n to stop:>Magda\n",
      "Magda has been added.\n",
      "Next name?:> Dominic\n",
      "Dominic has been added.\n",
      "Next name?:> Anya\n",
      "Anya has been added.\n",
      "Next name?:> n\n",
      "There are 3 people in the class, the are ['Magda', 'Dominic', 'Anya']\n"
     ]
    }
   ],
   "source": [
    "#Putting counter in a while loop\n",
    "\n",
    "count = 0\n",
    "class_names = []\n",
    "name = input('Please enter name type n to stop:>')\n",
    "while name != 'n':\n",
    "    count +=1\n",
    "    class_names.append(name)\n",
    "    print(f'{name} has been added.')\n",
    "    name = input('Next name?:> ')\n",
    "    \n",
    "    \n",
    "    \n",
    "print(f'There are {count} people in the class, the are {class_names}')"
   ]
  },
  {
   "cell_type": "code",
   "execution_count": 2,
   "metadata": {},
   "outputs": [
    {
     "name": "stdout",
     "output_type": "stream",
     "text": [
      "1\n",
      "2\n",
      "3 Fizz\n",
      "4\n",
      "5 Buzz\n",
      "6 Fizz\n",
      "7\n",
      "8\n",
      "9 Fizz\n",
      "10 Buzz\n",
      "11\n",
      "12 Fizz\n",
      "13\n",
      "14\n",
      "15 Fizzbuzz!!!\n",
      "16\n",
      "17\n",
      "18 Fizz\n",
      "19\n",
      "20 Buzz\n",
      "21 Fizz\n",
      "22\n",
      "23\n",
      "24 Fizz\n",
      "25 Buzz\n",
      "26\n",
      "27 Fizz\n",
      "28\n",
      "29\n",
      "30 Fizzbuzz!!!\n",
      "31\n",
      "32\n",
      "33 Fizz\n",
      "34\n",
      "35 Buzz\n",
      "36 Fizz\n",
      "37\n",
      "38\n",
      "39 Fizz\n",
      "40 Buzz\n",
      "41\n",
      "42 Fizz\n",
      "43\n",
      "44\n",
      "45 Fizzbuzz!!!\n",
      "46\n",
      "47\n",
      "48 Fizz\n",
      "49\n",
      "50 Buzz\n",
      "51 Fizz\n",
      "52\n",
      "53\n",
      "54 Fizz\n",
      "55 Buzz\n",
      "56\n",
      "57 Fizz\n",
      "58\n",
      "59\n",
      "60 Fizzbuzz!!!\n",
      "61\n",
      "62\n",
      "63 Fizz\n",
      "64\n",
      "65 Buzz\n",
      "66 Fizz\n",
      "67\n",
      "68\n",
      "69 Fizz\n",
      "70 Buzz\n",
      "71\n",
      "72 Fizz\n",
      "73\n",
      "74\n",
      "75 Fizzbuzz!!!\n",
      "76\n",
      "77\n",
      "78 Fizz\n",
      "79\n",
      "80 Buzz\n",
      "81 Fizz\n",
      "82\n",
      "83\n",
      "84 Fizz\n",
      "85 Buzz\n",
      "86\n",
      "87 Fizz\n",
      "88\n",
      "89\n",
      "90 Fizzbuzz!!!\n",
      "91\n",
      "92\n",
      "93 Fizz\n",
      "94\n",
      "95 Buzz\n",
      "96 Fizz\n",
      "97\n",
      "98\n",
      "99 Fizz\n",
      "100 Buzz\n"
     ]
    }
   ],
   "source": [
    "#Modulus\n",
    "#remainder of the division\n",
    "\n",
    "var_1 = 20\n",
    "var_2 = 4\n",
    "\n",
    "#Fizzbuzz\n",
    "\n",
    "n = 100\n",
    "\n",
    "for i in range(1, n+1):\n",
    "    if i % 3 == 0 and i % 5 == 0:\n",
    "        print(i, 'Fizzbuzz!!!')\n",
    "    elif i % 5 == 0:\n",
    "        print(i, 'Buzz')\n",
    "    elif i % 3 == 0:\n",
    "        print(i, 'Fizz')\n",
    "    else:\n",
    "        print(i)"
   ]
  },
  {
   "cell_type": "code",
   "execution_count": 4,
   "metadata": {},
   "outputs": [
    {
     "name": "stdout",
     "output_type": "stream",
     "text": [
      "[0, 1, 2, 3, 4, 5, 6, 7, 8, 9]\n"
     ]
    }
   ],
   "source": [
    "print(list(range(10)))\n"
   ]
  },
  {
   "cell_type": "code",
   "execution_count": 5,
   "metadata": {},
   "outputs": [
    {
     "name": "stdout",
     "output_type": "stream",
     "text": [
      "[0, 4, 8, 12, 16]\n"
     ]
    }
   ],
   "source": [
    "print(list(range(0,20,4)))"
   ]
  },
  {
   "cell_type": "code",
   "execution_count": 10,
   "metadata": {},
   "outputs": [
    {
     "name": "stdout",
     "output_type": "stream",
     "text": [
      "Please enter a number between 1-100:>12\n",
      "Please enter a number between 1-100:>42\n",
      "12 13 14 15 16 17 18 19 20 21 22 23 24 25 26 27 28 29 30 31 32 33 34 35 36 37 38 39 40 41 42 "
     ]
    }
   ],
   "source": [
    "#Practical questions\n",
    "#Question 1\n",
    "#Ask the user for two numbers between 1 and 100. Then count from the lower number to the higher number.\n",
    "#Print the results to the screen.\n",
    "\n",
    "num_1 = int(input('Please enter a number between 1-100:>'))\n",
    "num_2 = int(input('Please enter a number between 1-100:>'))\n",
    "\n",
    "while num_1 < 0 or num_2 <0 or num_1 > 100 or num_2 > 100 or num_1 == num_2:\n",
    "    print('Number must be different values between 1 and 100, try again')\n",
    "    num_1 = int(input('Please enter a number between 1-100:>'))\n",
    "    num_2 = int(input('Please enter a number netween 1-100:>'))\n",
    "    \n",
    "if num_1 < num_2:\n",
    "    for i in range(num_1, num_2+1):\n",
    "        print(i, end=' ')\n",
    "else:\n",
    "    for i in range(num_2, num_1+1):\n",
    "        print(i, end=' ')\n"
   ]
  },
  {
   "cell_type": "code",
   "execution_count": 13,
   "metadata": {},
   "outputs": [
    {
     "name": "stdout",
     "output_type": "stream",
     "text": [
      "Please enter a word:>Blossoms\n",
      "smossolB\n"
     ]
    }
   ],
   "source": [
    "#Question 2\n",
    "#Ask the user to input a string and then print it out to the screen in the reverse\n",
    "#order (ise a for loop).\n",
    "\n",
    "word = input('Please enter a word:>')\n",
    "reverse_string = ' '\n",
    "for char in word:\n",
    "    reverse_string = char + reverse_string\n",
    "    \n",
    "#print(reverse_string)\n",
    "#or\n",
    "print(word[::-1])"
   ]
  },
  {
   "cell_type": "code",
   "execution_count": 14,
   "metadata": {},
   "outputs": [
    {
     "name": "stdout",
     "output_type": "stream",
     "text": [
      "Please enter a number between 1 and 12:> 2\n",
      "==================\n",
      "\n",
      "This is the 2 times table\n",
      "\n",
      "1 x 2 = 2\n",
      "2 x 2 = 4\n",
      "3 x 2 = 6\n",
      "4 x 2 = 8\n",
      "5 x 2 = 10\n",
      "6 x 2 = 12\n",
      "7 x 2 = 14\n",
      "8 x 2 = 16\n",
      "9 x 2 = 18\n",
      "10 x 2 = 20\n",
      "11 x 2 = 22\n",
      "12 x 2 = 24\n"
     ]
    }
   ],
   "source": [
    "#Question 3\n",
    "#Ask the user for a number between 1 and 12 and then display a times table for that number.\n",
    "\n",
    "\n",
    "user_input = input('Please enter a number between 1 and 12:> ')\n",
    "\n",
    "while (not user_input.isdigit()) or (int(user_input)) < 1 or int(user_input) > 12:\n",
    "    print('Must be an integer between 1 and 12')\n",
    "    user_input = input('Please make selecetion:> ')\n",
    "user_input = int(user_input)\n",
    "print('==================')\n",
    "print()\n",
    "print(f'This is the {user_input} times table')\n",
    "print()\n",
    "for i in range(1, 13):\n",
    "    print(f'{i} x {user_input} = {i*user_input}')"
   ]
  },
  {
   "cell_type": "code",
   "execution_count": 24,
   "metadata": {},
   "outputs": [
    {
     "name": "stdout",
     "output_type": "stream",
     "text": [
      "=================\n",
      "\n",
      "This is the 1 times table\n",
      "\n",
      "1 x 1 = 1\n",
      "2 x 1 = 2\n",
      "3 x 1 = 3\n",
      "4 x 1 = 4\n",
      "5 x 1 = 5\n",
      "6 x 1 = 6\n",
      "7 x 1 = 7\n",
      "8 x 1 = 8\n",
      "9 x 1 = 9\n",
      "10 x 1 = 10\n",
      "11 x 1 = 11\n",
      "12 x 1 = 12\n",
      "=================\n",
      "\n",
      "This is the 2 times table\n",
      "\n",
      "1 x 2 = 2\n",
      "2 x 2 = 4\n",
      "3 x 2 = 6\n",
      "4 x 2 = 8\n",
      "5 x 2 = 10\n",
      "6 x 2 = 12\n",
      "7 x 2 = 14\n",
      "8 x 2 = 16\n",
      "9 x 2 = 18\n",
      "10 x 2 = 20\n",
      "11 x 2 = 22\n",
      "12 x 2 = 24\n",
      "=================\n",
      "\n",
      "This is the 3 times table\n",
      "\n",
      "1 x 3 = 3\n",
      "2 x 3 = 6\n",
      "3 x 3 = 9\n",
      "4 x 3 = 12\n",
      "5 x 3 = 15\n",
      "6 x 3 = 18\n",
      "7 x 3 = 21\n",
      "8 x 3 = 24\n",
      "9 x 3 = 27\n",
      "10 x 3 = 30\n",
      "11 x 3 = 33\n",
      "12 x 3 = 36\n",
      "=================\n",
      "\n",
      "This is the 4 times table\n",
      "\n",
      "1 x 4 = 4\n",
      "2 x 4 = 8\n",
      "3 x 4 = 12\n",
      "4 x 4 = 16\n",
      "5 x 4 = 20\n",
      "6 x 4 = 24\n",
      "7 x 4 = 28\n",
      "8 x 4 = 32\n",
      "9 x 4 = 36\n",
      "10 x 4 = 40\n",
      "11 x 4 = 44\n",
      "12 x 4 = 48\n",
      "=================\n",
      "\n",
      "This is the 5 times table\n",
      "\n",
      "1 x 5 = 5\n",
      "2 x 5 = 10\n",
      "3 x 5 = 15\n",
      "4 x 5 = 20\n",
      "5 x 5 = 25\n",
      "6 x 5 = 30\n",
      "7 x 5 = 35\n",
      "8 x 5 = 40\n",
      "9 x 5 = 45\n",
      "10 x 5 = 50\n",
      "11 x 5 = 55\n",
      "12 x 5 = 60\n",
      "=================\n",
      "\n",
      "This is the 6 times table\n",
      "\n",
      "1 x 6 = 6\n",
      "2 x 6 = 12\n",
      "3 x 6 = 18\n",
      "4 x 6 = 24\n",
      "5 x 6 = 30\n",
      "6 x 6 = 36\n",
      "7 x 6 = 42\n",
      "8 x 6 = 48\n",
      "9 x 6 = 54\n",
      "10 x 6 = 60\n",
      "11 x 6 = 66\n",
      "12 x 6 = 72\n",
      "=================\n",
      "\n",
      "This is the 7 times table\n",
      "\n",
      "1 x 7 = 7\n",
      "2 x 7 = 14\n",
      "3 x 7 = 21\n",
      "4 x 7 = 28\n",
      "5 x 7 = 35\n",
      "6 x 7 = 42\n",
      "7 x 7 = 49\n",
      "8 x 7 = 56\n",
      "9 x 7 = 63\n",
      "10 x 7 = 70\n",
      "11 x 7 = 77\n",
      "12 x 7 = 84\n",
      "=================\n",
      "\n",
      "This is the 8 times table\n",
      "\n",
      "1 x 8 = 8\n",
      "2 x 8 = 16\n",
      "3 x 8 = 24\n",
      "4 x 8 = 32\n",
      "5 x 8 = 40\n",
      "6 x 8 = 48\n",
      "7 x 8 = 56\n",
      "8 x 8 = 64\n",
      "9 x 8 = 72\n",
      "10 x 8 = 80\n",
      "11 x 8 = 88\n",
      "12 x 8 = 96\n",
      "=================\n",
      "\n",
      "This is the 9 times table\n",
      "\n",
      "1 x 9 = 9\n",
      "2 x 9 = 18\n",
      "3 x 9 = 27\n",
      "4 x 9 = 36\n",
      "5 x 9 = 45\n",
      "6 x 9 = 54\n",
      "7 x 9 = 63\n",
      "8 x 9 = 72\n",
      "9 x 9 = 81\n",
      "10 x 9 = 90\n",
      "11 x 9 = 99\n",
      "12 x 9 = 108\n",
      "=================\n",
      "\n",
      "This is the 10 times table\n",
      "\n",
      "1 x 10 = 10\n",
      "2 x 10 = 20\n",
      "3 x 10 = 30\n",
      "4 x 10 = 40\n",
      "5 x 10 = 50\n",
      "6 x 10 = 60\n",
      "7 x 10 = 70\n",
      "8 x 10 = 80\n",
      "9 x 10 = 90\n",
      "10 x 10 = 100\n",
      "11 x 10 = 110\n",
      "12 x 10 = 120\n",
      "=================\n",
      "\n",
      "This is the 11 times table\n",
      "\n",
      "1 x 11 = 11\n",
      "2 x 11 = 22\n",
      "3 x 11 = 33\n",
      "4 x 11 = 44\n",
      "5 x 11 = 55\n",
      "6 x 11 = 66\n",
      "7 x 11 = 77\n",
      "8 x 11 = 88\n",
      "9 x 11 = 99\n",
      "10 x 11 = 110\n",
      "11 x 11 = 121\n",
      "12 x 11 = 132\n",
      "=================\n",
      "\n",
      "This is the 12 times table\n",
      "\n",
      "1 x 12 = 12\n",
      "2 x 12 = 24\n",
      "3 x 12 = 36\n",
      "4 x 12 = 48\n",
      "5 x 12 = 60\n",
      "6 x 12 = 72\n",
      "7 x 12 = 84\n",
      "8 x 12 = 96\n",
      "9 x 12 = 108\n",
      "10 x 12 = 120\n",
      "11 x 12 = 132\n",
      "12 x 12 = 144\n"
     ]
    }
   ],
   "source": [
    "#Question 4\n",
    "#Can you amend the solution to question 3 so that it just prints out the times tables between 1 and 12?\n",
    "#(no need to ask user for input)\n",
    "#using nested for loop\n",
    "\n",
    "for i in range(1,13):\n",
    "    print('=================')\n",
    "    print()\n",
    "    print(f'This is the {i} times table')\n",
    "    print()\n",
    "    for j in range(1,13):\n",
    "        print(f'{j} x {i} = {j*i}')"
   ]
  },
  {
   "cell_type": "code",
   "execution_count": 29,
   "metadata": {},
   "outputs": [
    {
     "name": "stdout",
     "output_type": "stream",
     "text": [
      "Please enter a number type exit to stop:>2\n",
      "Please enter next number:>3\n",
      "Please enter next number:>4\n",
      "Please enter next number:>5\n",
      "Please enter next number:>exit\n",
      "Mean is 3.5\n",
      "3.5\n"
     ]
    }
   ],
   "source": [
    "#Question 5\n",
    "#Ask the user to input a sequence of numbers. Then calculate the mean\n",
    "#and print the result\n",
    "\n",
    "user_input = input('Please enter a number type exit to stop:>')\n",
    "numbers = []\n",
    "while user_input. lower() != 'exit':\n",
    "    while not user_input.isdigit():\n",
    "        print('That is not a number! Numbers only please:>')\n",
    "        user_input = input('Try again:> ')\n",
    "    numbers.append(int(user_input))\n",
    "    user_input = input('Please enter next number:>')\n",
    "total = 0\n",
    "for number in numbers:\n",
    "    total += number\n",
    "    \n",
    "print(f'Mean is {total/len(numbers)}')\n",
    "print(sum(numbers)/len(numbers))\n",
    "        "
   ]
  },
  {
   "cell_type": "code",
   "execution_count": 30,
   "metadata": {},
   "outputs": [
    {
     "name": "stdout",
     "output_type": "stream",
     "text": [
      "1307674368000\n"
     ]
    }
   ],
   "source": [
    "#Question 6\n",
    "#Write code that will calculate 15 factorial. {factorial} is product of the positive integers\n",
    "#up to a given numbner. e.g. 5 factorial is 5x4x3x2x1)\n",
    "\n",
    "n = 15\n",
    "fact = 1\n",
    "for i in range(1, n+1):\n",
    "    fact = fact*i\n",
    "print(fact)"
   ]
  },
  {
   "cell_type": "code",
   "execution_count": 45,
   "metadata": {},
   "outputs": [
    {
     "name": "stdout",
     "output_type": "stream",
     "text": [
      "The first 20 Fibonacci numbers are, [0, 1, 1, 2, 3, 5, 8, 13, 21, 34, 55, 89, 144, 233, 377, 610, 987, 1597, 2584, 4181]\n"
     ]
    }
   ],
   "source": [
    "#Question 7\n",
    "#Write code to calculate Fibonacci numbers. Create list containing first 20 Fibonacci numbers,\n",
    "#Fibonacci numbers made by sume of preceeding two. Series starts 0 11 2 3 5 8 13 ....)\n",
    "\n",
    "#Number of fib numers required\n",
    "n=20\n",
    "#Set a and b to the first two numbers in the sequence\n",
    "a = 0\n",
    "b = 1\n",
    "\n",
    "# List in which to store numbers\n",
    "fib_nums = []\n",
    "\n",
    "#use a for loop to create the sequence, repeat n times\n",
    "for i in range(n):\n",
    "    fib_nums.append(a)\n",
    "    a,b = b, a+b\n",
    "\n",
    "\n",
    "print(f'The first {n} Fibonacci numbers are, {fib_nums}')\n"
   ]
  },
  {
   "cell_type": "code",
   "execution_count": 58,
   "metadata": {},
   "outputs": [
    {
     "name": "stdout",
     "output_type": "stream",
     "text": [
      "*****\n",
      "*\n",
      "****\n",
      "*\n",
      "*\n",
      "*\n"
     ]
    }
   ],
   "source": [
    "#Question 8: 6 rows & 5 columns\n",
    "#*****\n",
    "#*\n",
    "#****\n",
    "#*\n",
    "#*\n",
    "#*\n",
    "#Can you draw this using python?\n",
    "\n",
    "star = '*'\n",
    "\n",
    "for i in range(1,7):\n",
    "    for j in range(1,6):\n",
    "        if i == 1 and j < 6:\n",
    "            print(star, end='')\n",
    "        elif i == 2 and j == 1:\n",
    "            print()\n",
    "            print(star)\n",
    "        elif i == 3 and j < 5:\n",
    "            print(star, end='')\n",
    "        elif i == 4 and j == 1:\n",
    "            print()\n",
    "            print(star)\n",
    "        elif i == 5 and j == 1:\n",
    "            print(star)\n",
    "        elif i == 6 and j == 1:\n",
    "               print(star)\n",
    "    "
   ]
  },
  {
   "cell_type": "code",
   "execution_count": 60,
   "metadata": {},
   "outputs": [
    {
     "name": "stdout",
     "output_type": "stream",
     "text": [
      "The evens are [0, 2, 4, 6, 8, 10, 12, 14, 16, 18, 20, 22, 24, 26, 28, 30, 32, 34, 36, 38, 40, 42, 44, 46, 48, 50, 52, 54, 56, 58, 60, 62, 64, 66, 68, 70, 72, 74, 76, 78, 80, 82, 84, 86, 88, 90, 92, 94, 96, 98, 100]\n",
      "The odds are [1, 3, 5, 7, 9, 11, 13, 15, 17, 19, 21, 23, 25, 27, 29, 31, 33, 35, 37, 39, 41, 43, 45, 47, 49, 51, 53, 55, 57, 59, 61, 63, 65, 67, 69, 71, 73, 75, 77, 79, 81, 83, 85, 87, 89, 91, 93, 95, 97, 99]\n"
     ]
    }
   ],
   "source": [
    "#Question 9\n",
    "#Write some code that will determine all odd and even numbers\n",
    "#between 1 an 100. Put the odds in a list names odd and the evens in a list named even.\n",
    "\n",
    "#Numbers required\n",
    "n=100\n",
    "\n",
    "#Instantiate empty lists\n",
    "evens = []\n",
    "odds = []\n",
    "\n",
    "for i in range(n+1):\n",
    "    if not i % 2:\n",
    "        evens.append(i)\n",
    "    else:\n",
    "        odds.append(i)\n",
    "print(f'The evens are {evens}')\n",
    "print(f'The odds are {odds}')\n",
    "        \n"
   ]
  },
  {
   "cell_type": "markdown",
   "metadata": {},
   "source": [
    "### Dictionaries"
   ]
  },
  {
   "cell_type": "code",
   "execution_count": 62,
   "metadata": {},
   "outputs": [
    {
     "data": {
      "text/plain": [
       "['__doc__',\n",
       " '__loader__',\n",
       " '__name__',\n",
       " '__package__',\n",
       " '__spec__',\n",
       " 'acos',\n",
       " 'acosh',\n",
       " 'asin',\n",
       " 'asinh',\n",
       " 'atan',\n",
       " 'atan2',\n",
       " 'atanh',\n",
       " 'ceil',\n",
       " 'comb',\n",
       " 'copysign',\n",
       " 'cos',\n",
       " 'cosh',\n",
       " 'degrees',\n",
       " 'dist',\n",
       " 'e',\n",
       " 'erf',\n",
       " 'erfc',\n",
       " 'exp',\n",
       " 'expm1',\n",
       " 'fabs',\n",
       " 'factorial',\n",
       " 'floor',\n",
       " 'fmod',\n",
       " 'frexp',\n",
       " 'fsum',\n",
       " 'gamma',\n",
       " 'gcd',\n",
       " 'hypot',\n",
       " 'inf',\n",
       " 'isclose',\n",
       " 'isfinite',\n",
       " 'isinf',\n",
       " 'isnan',\n",
       " 'isqrt',\n",
       " 'ldexp',\n",
       " 'lgamma',\n",
       " 'log',\n",
       " 'log10',\n",
       " 'log1p',\n",
       " 'log2',\n",
       " 'modf',\n",
       " 'nan',\n",
       " 'perm',\n",
       " 'pi',\n",
       " 'pow',\n",
       " 'prod',\n",
       " 'radians',\n",
       " 'remainder',\n",
       " 'sin',\n",
       " 'sinh',\n",
       " 'sqrt',\n",
       " 'tan',\n",
       " 'tanh',\n",
       " 'tau',\n",
       " 'trunc']"
      ]
     },
     "execution_count": 62,
     "metadata": {},
     "output_type": "execute_result"
    }
   ],
   "source": [
    "#Modules\n",
    "#the python files library\n",
    "\n",
    "import math\n",
    "dir(math)"
   ]
  },
  {
   "cell_type": "code",
   "execution_count": 64,
   "metadata": {},
   "outputs": [
    {
     "name": "stdout",
     "output_type": "stream",
     "text": [
      "3.141592653589793\n"
     ]
    }
   ],
   "source": [
    "print(math.pi)"
   ]
  },
  {
   "cell_type": "code",
   "execution_count": 65,
   "metadata": {},
   "outputs": [
    {
     "name": "stdout",
     "output_type": "stream",
     "text": [
      "1.0\n"
     ]
    }
   ],
   "source": [
    "print(math.cos(0))"
   ]
  },
  {
   "cell_type": "code",
   "execution_count": 68,
   "metadata": {},
   "outputs": [
    {
     "name": "stdout",
     "output_type": "stream",
     "text": [
      "61"
     ]
    }
   ],
   "source": [
    "import random\n",
    "print(random.randint(1,100), end='')"
   ]
  },
  {
   "cell_type": "code",
   "execution_count": 2,
   "metadata": {},
   "outputs": [
    {
     "data": {
      "text/plain": [
       "'Berlin'"
      ]
     },
     "execution_count": 2,
     "metadata": {},
     "output_type": "execute_result"
    }
   ],
   "source": [
    "#Dictonaries\n",
    "\n",
    "capitals = {'France':'Paris', 'Spain':'Madrid', 'United Kingdom':'London',\n",
    "           'India':'New Delhi', 'United States':'Washington DC', 'Italy':'Rome',\n",
    "            'Denmark':'Copenhagen', 'Germany':'Berlin', 'Ireland':'Dublin'}\n",
    "capitals['Germany']\n"
   ]
  },
  {
   "cell_type": "code",
   "execution_count": 3,
   "metadata": {},
   "outputs": [
    {
     "data": {
      "text/plain": [
       "'Berlin'"
      ]
     },
     "execution_count": 3,
     "metadata": {},
     "output_type": "execute_result"
    }
   ],
   "source": [
    "capitals.get('Germany')"
   ]
  },
  {
   "cell_type": "code",
   "execution_count": 4,
   "metadata": {},
   "outputs": [
    {
     "data": {
      "text/plain": [
       "'Dublin'"
      ]
     },
     "execution_count": 4,
     "metadata": {},
     "output_type": "execute_result"
    }
   ],
   "source": [
    "capitals.get('Ireland')"
   ]
  },
  {
   "cell_type": "code",
   "execution_count": 5,
   "metadata": {},
   "outputs": [
    {
     "name": "stdout",
     "output_type": "stream",
     "text": [
      "dict_items([('France', 'Paris'), ('Spain', 'Madrid'), ('United Kingdom', 'London'), ('India', 'New Delhi'), ('United States', 'Washington DC'), ('Italy', 'Rome'), ('Denmark', 'Copenhagen'), ('Germany', 'Berlin'), ('Ireland', 'Dublin')])\n"
     ]
    }
   ],
   "source": [
    "print(capitals.items())"
   ]
  },
  {
   "cell_type": "code",
   "execution_count": 6,
   "metadata": {},
   "outputs": [
    {
     "name": "stdout",
     "output_type": "stream",
     "text": [
      "France\n",
      "Spain\n",
      "United Kingdom\n",
      "India\n",
      "United States\n",
      "Italy\n",
      "Denmark\n",
      "Germany\n",
      "Ireland\n"
     ]
    }
   ],
   "source": [
    "for country in capitals:\n",
    "    print(country)"
   ]
  },
  {
   "cell_type": "code",
   "execution_count": 7,
   "metadata": {},
   "outputs": [
    {
     "name": "stdout",
     "output_type": "stream",
     "text": [
      "The capital of France, is Paris\n",
      "The capital of Spain, is Madrid\n",
      "The capital of United Kingdom, is London\n",
      "The capital of India, is New Delhi\n",
      "The capital of United States, is Washington DC\n",
      "The capital of Italy, is Rome\n",
      "The capital of Denmark, is Copenhagen\n",
      "The capital of Germany, is Berlin\n",
      "The capital of Ireland, is Dublin\n"
     ]
    }
   ],
   "source": [
    "for country, city in capitals.items():\n",
    "    print(f'The capital of {country}, is {city}')"
   ]
  },
  {
   "cell_type": "code",
   "execution_count": 8,
   "metadata": {},
   "outputs": [
    {
     "name": "stdout",
     "output_type": "stream",
     "text": [
      "dict_keys(['France', 'Spain', 'United Kingdom', 'India', 'United States', 'Italy', 'Denmark', 'Germany', 'Ireland'])\n"
     ]
    }
   ],
   "source": [
    "print(capitals.keys())"
   ]
  },
  {
   "cell_type": "code",
   "execution_count": 9,
   "metadata": {},
   "outputs": [
    {
     "name": "stdout",
     "output_type": "stream",
     "text": [
      "it contains France\n"
     ]
    }
   ],
   "source": [
    "if 'France' in capitals:\n",
    "    print('it contains France')"
   ]
  },
  {
   "cell_type": "code",
   "execution_count": 10,
   "metadata": {},
   "outputs": [
    {
     "name": "stdout",
     "output_type": "stream",
     "text": [
      "False\n"
     ]
    }
   ],
   "source": [
    "L = [1,2,3,4,5]\n",
    "print(7 in L)"
   ]
  },
  {
   "cell_type": "code",
   "execution_count": 11,
   "metadata": {},
   "outputs": [
    {
     "name": "stdout",
     "output_type": "stream",
     "text": [
      "True\n"
     ]
    }
   ],
   "source": [
    "print(4 in L)"
   ]
  },
  {
   "cell_type": "code",
   "execution_count": 12,
   "metadata": {},
   "outputs": [
    {
     "name": "stdout",
     "output_type": "stream",
     "text": [
      "The result of the zip function is [(1, 'a'), (2, 'b'), (3, 'c'), (4, 'd')] it is of type <class 'list'>\n"
     ]
    }
   ],
   "source": [
    "#ZIP\n",
    "my_list_1 = [1,2,3,4]\n",
    "my_list_2 = ['a','b','c','d']\n",
    "\n",
    "joined = list(zip(my_list_1,my_list_2))\n",
    "print(f'The result of the zip function is {joined} it is of type {type(joined)}')"
   ]
  },
  {
   "cell_type": "code",
   "execution_count": 14,
   "metadata": {},
   "outputs": [
    {
     "name": "stdout",
     "output_type": "stream",
     "text": [
      "dict_items([('France', 'Paris'), ('Spain', 'Madrid'), ('United Kingdom', 'London'), ('India', 'New Delhi'), ('United States', 'Washington DC'), ('Italy', 'Rome'), ('Denmark', 'Copenhagen'), ('Germany', 'Berlin'), ('Ireland', 'Dublin')])\n",
      "\n"
     ]
    }
   ],
   "source": [
    "print(capitals.items())\n",
    "print()\n",
    "x,y = zip(*capitals.items())"
   ]
  },
  {
   "cell_type": "code",
   "execution_count": 15,
   "metadata": {},
   "outputs": [
    {
     "name": "stdout",
     "output_type": "stream",
     "text": [
      "('France', 'Spain', 'United Kingdom', 'India', 'United States', 'Italy', 'Denmark', 'Germany', 'Ireland')\n"
     ]
    }
   ],
   "source": [
    "print(x)"
   ]
  },
  {
   "cell_type": "code",
   "execution_count": 16,
   "metadata": {},
   "outputs": [
    {
     "name": "stdout",
     "output_type": "stream",
     "text": [
      "('Paris', 'Madrid', 'London', 'New Delhi', 'Washington DC', 'Rome', 'Copenhagen', 'Berlin', 'Dublin')\n"
     ]
    }
   ],
   "source": [
    "print(y)"
   ]
  },
  {
   "cell_type": "code",
   "execution_count": 22,
   "metadata": {},
   "outputs": [
    {
     "data": {
      "text/plain": [
       "1"
      ]
     },
     "execution_count": 22,
     "metadata": {},
     "output_type": "execute_result"
    }
   ],
   "source": [
    "#TUPLES\n",
    "#Typles are immutable(similar to strings)\n",
    "my_tuple = (1,2,3,4)\n",
    "my_list = [5,6,7,8]\n",
    "my_string = 'Australia'\n",
    "\n",
    "my_tuple[0]\n",
    "\n"
   ]
  },
  {
   "cell_type": "code",
   "execution_count": 23,
   "metadata": {},
   "outputs": [
    {
     "data": {
      "text/plain": [
       "(1, 2, 3)"
      ]
     },
     "execution_count": 23,
     "metadata": {},
     "output_type": "execute_result"
    }
   ],
   "source": [
    "my_tuple[:3]"
   ]
  },
  {
   "cell_type": "code",
   "execution_count": 24,
   "metadata": {},
   "outputs": [],
   "source": [
    "my_list[0] = 1000"
   ]
  },
  {
   "cell_type": "code",
   "execution_count": 26,
   "metadata": {},
   "outputs": [
    {
     "data": {
      "text/plain": [
       "'Australia'"
      ]
     },
     "execution_count": 26,
     "metadata": {},
     "output_type": "execute_result"
    }
   ],
   "source": [
    "my_string"
   ]
  },
  {
   "cell_type": "code",
   "execution_count": 27,
   "metadata": {},
   "outputs": [
    {
     "data": {
      "text/plain": [
       "(1, 2, 3)"
      ]
     },
     "execution_count": 27,
     "metadata": {},
     "output_type": "execute_result"
    }
   ],
   "source": [
    "#Another dimension of lists\n",
    "\n",
    "my_list = [(1,2,3), (4,5,6), (7,8,9)]\n",
    "\n",
    "my_list[0]"
   ]
  },
  {
   "cell_type": "code",
   "execution_count": 28,
   "metadata": {},
   "outputs": [
    {
     "data": {
      "text/plain": [
       "(4, 5, 6)"
      ]
     },
     "execution_count": 28,
     "metadata": {},
     "output_type": "execute_result"
    }
   ],
   "source": [
    "my_list[1]"
   ]
  },
  {
   "cell_type": "code",
   "execution_count": 29,
   "metadata": {},
   "outputs": [
    {
     "data": {
      "text/plain": [
       "(7, 8, 9)"
      ]
     },
     "execution_count": 29,
     "metadata": {},
     "output_type": "execute_result"
    }
   ],
   "source": [
    "my_list[2]"
   ]
  },
  {
   "cell_type": "code",
   "execution_count": 30,
   "metadata": {},
   "outputs": [],
   "source": [
    "#{Key: Value}\n",
    "\n",
    "countries = {'France':{'Capital':'Paris' ,'Language':'French'}, 'Spain':{'Capital':'Madrid', 'Language':'Spanish'}, 'Italy':{'Capital':'Rome','Language':'Italian'}}"
   ]
  },
  {
   "cell_type": "code",
   "execution_count": 31,
   "metadata": {},
   "outputs": [
    {
     "data": {
      "text/plain": [
       "{'Capital': 'Paris', 'Language': 'French'}"
      ]
     },
     "execution_count": 31,
     "metadata": {},
     "output_type": "execute_result"
    }
   ],
   "source": [
    "countries['France']"
   ]
  },
  {
   "cell_type": "code",
   "execution_count": 32,
   "metadata": {},
   "outputs": [
    {
     "data": {
      "text/plain": [
       "{'Capital': 'Rome', 'Language': 'Italian'}"
      ]
     },
     "execution_count": 32,
     "metadata": {},
     "output_type": "execute_result"
    }
   ],
   "source": [
    "countries['Italy']"
   ]
  },
  {
   "cell_type": "code",
   "execution_count": 33,
   "metadata": {},
   "outputs": [
    {
     "name": "stdout",
     "output_type": "stream",
     "text": [
      "France {'Capital': 'Paris', 'Language': 'French'}\n",
      "Spain {'Capital': 'Madrid', 'Language': 'Spanish'}\n",
      "Italy {'Capital': 'Rome', 'Language': 'Italian'}\n"
     ]
    }
   ],
   "source": [
    "for key, value in countries.items():\n",
    "    print(key,value)"
   ]
  },
  {
   "cell_type": "code",
   "execution_count": 38,
   "metadata": {},
   "outputs": [
    {
     "name": "stdout",
     "output_type": "stream",
     "text": [
      "Paris is the capital of France, they speak French.\n",
      "Madrid is the capital of Spain, they speak Spanish.\n",
      "Rome is the capital of Italy, they speak Italian.\n"
     ]
    }
   ],
   "source": [
    "for key, value in countries.items():\n",
    "    print(f'{value[\"Capital\"]} is the capital of {key}, they speak {value[\"Language\"]}.')"
   ]
  },
  {
   "cell_type": "code",
   "execution_count": 4,
   "metadata": {},
   "outputs": [
    {
     "name": "stdout",
     "output_type": "stream",
     "text": [
      "{1: 0, 2: 1, 3: 1, 4: 2, 5: 3, 6: 5, 7: 8, 8: 13, 9: 21, 10: 34, 11: 55, 12: 89}\n"
     ]
    }
   ],
   "source": [
    "#Question 1\n",
    "#Write Python code that will create a dictionary containing key, value pairs\n",
    "#that represent the first 12 values of the Fibonacci sequence\n",
    "#i.e. (1:0, 2:1, 3:1, 4:2, 5:3, 6:5, 7:8 etc)\n",
    "\n",
    "n = 12\n",
    "a = 0\n",
    "b = 1\n",
    "d = dict()\n",
    "for i in range(1,n+1):\n",
    "    d[i] = a\n",
    "    a,b = b,a+b\n",
    "print(d)"
   ]
  },
  {
   "cell_type": "code",
   "execution_count": 10,
   "metadata": {},
   "outputs": [
    {
     "name": "stdout",
     "output_type": "stream",
     "text": [
      "{'Python DS': {'Open': 12.87, 'High': 12.23, 'Low': 11.42, 'Close': 13.1}, 'PythonSoft': {'Open': 23.52, 'High': 25.76, 'Low': 21.87, 'Close': 22.33}, 'Pythazon': {'Open': 98.99, 'High': 102.34, 'Low': 97.21, 'Close': 100.065}, 'Pybook': {'Open': 203.63, 'High': 207.54, 'Low': 202.43, 'Close': 205.24}}\n"
     ]
    }
   ],
   "source": [
    "#Question 2\n",
    "#Create a dictionary to represent the open, high, low, close share price \n",
    "#data for 4 imaginary companies. 'Python DS'. 'PythonSoft',\n",
    "#'Pythazon' and 'Pybook'. The 4 sets of data are:\n",
    "#[12.87, 12.23, 11.42, 13.10], [23.54, 25.76, 21.87, 22.33],\n",
    "#[98.99,102.34,97.21,100.065],[203.63,207.54,202.43,205.24]\n",
    "\n",
    "companies = ['Python DS', 'PythonSoft', 'Pythazon', 'Pybook']\n",
    "key_names = ['Open', 'High', 'Low', 'Close']\n",
    "prices = [[12.87, 12.23, 11.42, 13.10], [23.52, 25.76, 21.87, 22.33],\n",
    "[98.99, 102.34, 97.21, 100.065], [203.63, 207.54, 202.43, 205.24]]\n",
    "\n",
    "d_1 = {}\n",
    "\n",
    "for i in range(len(key_names)):\n",
    "    d_1[companies[i]] = dict(zip(key_names, prices[i]))\n",
    "    \n",
    "print(d_1)\n"
   ]
  },
  {
   "cell_type": "markdown",
   "metadata": {},
   "source": [
    "### Files and functions"
   ]
  },
  {
   "cell_type": "code",
   "execution_count": 1,
   "metadata": {},
   "outputs": [
    {
     "name": "stdout",
     "output_type": "stream",
     "text": [
      "6765\n"
     ]
    }
   ],
   "source": [
    "#Calculating Fibonacci sequence in a function\n",
    "\n",
    "#standard method\n",
    "n = 20\n",
    "a = 0\n",
    "b = 1\n",
    "for i in range(n):\n",
    "    a,b = b,a+b\n",
    "print(a)\n"
   ]
  },
  {
   "cell_type": "code",
   "execution_count": 5,
   "metadata": {},
   "outputs": [
    {
     "name": "stdout",
     "output_type": "stream",
     "text": [
      "6765\n"
     ]
    }
   ],
   "source": [
    "#Fibonacci in a function called 'fib'\n",
    "\n",
    "def fib(n):\n",
    "\n",
    "    a = 0\n",
    "    b = 1\n",
    "    for i in range(n):\n",
    "        a, b = b, a+b\n",
    "    return a \n",
    "\n",
    "fib_num = fib(20)\n",
    "print(fib_num)\n"
   ]
  },
  {
   "cell_type": "markdown",
   "metadata": {},
   "source": [
    "### Classes and objects"
   ]
  },
  {
   "cell_type": "code",
   "execution_count": 7,
   "metadata": {},
   "outputs": [
    {
     "name": "stdout",
     "output_type": "stream",
     "text": [
      "Help on int object:\n",
      "\n",
      "class int(object)\n",
      " |  int([x]) -> integer\n",
      " |  int(x, base=10) -> integer\n",
      " |  \n",
      " |  Convert a number or string to an integer, or return 0 if no arguments\n",
      " |  are given.  If x is a number, return x.__int__().  For floating point\n",
      " |  numbers, this truncates towards zero.\n",
      " |  \n",
      " |  If x is not a number or if base is given, then x must be a string,\n",
      " |  bytes, or bytearray instance representing an integer literal in the\n",
      " |  given base.  The literal can be preceded by '+' or '-' and be surrounded\n",
      " |  by whitespace.  The base defaults to 10.  Valid bases are 0 and 2-36.\n",
      " |  Base 0 means to interpret the base from the string as an integer literal.\n",
      " |  >>> int('0b100', base=0)\n",
      " |  4\n",
      " |  \n",
      " |  Built-in subclasses:\n",
      " |      bool\n",
      " |  \n",
      " |  Methods defined here:\n",
      " |  \n",
      " |  __abs__(self, /)\n",
      " |      abs(self)\n",
      " |  \n",
      " |  __add__(self, value, /)\n",
      " |      Return self+value.\n",
      " |  \n",
      " |  __and__(self, value, /)\n",
      " |      Return self&value.\n",
      " |  \n",
      " |  __bool__(self, /)\n",
      " |      self != 0\n",
      " |  \n",
      " |  __ceil__(...)\n",
      " |      Ceiling of an Integral returns itself.\n",
      " |  \n",
      " |  __divmod__(self, value, /)\n",
      " |      Return divmod(self, value).\n",
      " |  \n",
      " |  __eq__(self, value, /)\n",
      " |      Return self==value.\n",
      " |  \n",
      " |  __float__(self, /)\n",
      " |      float(self)\n",
      " |  \n",
      " |  __floor__(...)\n",
      " |      Flooring an Integral returns itself.\n",
      " |  \n",
      " |  __floordiv__(self, value, /)\n",
      " |      Return self//value.\n",
      " |  \n",
      " |  __format__(self, format_spec, /)\n",
      " |      Default object formatter.\n",
      " |  \n",
      " |  __ge__(self, value, /)\n",
      " |      Return self>=value.\n",
      " |  \n",
      " |  __getattribute__(self, name, /)\n",
      " |      Return getattr(self, name).\n",
      " |  \n",
      " |  __getnewargs__(self, /)\n",
      " |  \n",
      " |  __gt__(self, value, /)\n",
      " |      Return self>value.\n",
      " |  \n",
      " |  __hash__(self, /)\n",
      " |      Return hash(self).\n",
      " |  \n",
      " |  __index__(self, /)\n",
      " |      Return self converted to an integer, if self is suitable for use as an index into a list.\n",
      " |  \n",
      " |  __int__(self, /)\n",
      " |      int(self)\n",
      " |  \n",
      " |  __invert__(self, /)\n",
      " |      ~self\n",
      " |  \n",
      " |  __le__(self, value, /)\n",
      " |      Return self<=value.\n",
      " |  \n",
      " |  __lshift__(self, value, /)\n",
      " |      Return self<<value.\n",
      " |  \n",
      " |  __lt__(self, value, /)\n",
      " |      Return self<value.\n",
      " |  \n",
      " |  __mod__(self, value, /)\n",
      " |      Return self%value.\n",
      " |  \n",
      " |  __mul__(self, value, /)\n",
      " |      Return self*value.\n",
      " |  \n",
      " |  __ne__(self, value, /)\n",
      " |      Return self!=value.\n",
      " |  \n",
      " |  __neg__(self, /)\n",
      " |      -self\n",
      " |  \n",
      " |  __or__(self, value, /)\n",
      " |      Return self|value.\n",
      " |  \n",
      " |  __pos__(self, /)\n",
      " |      +self\n",
      " |  \n",
      " |  __pow__(self, value, mod=None, /)\n",
      " |      Return pow(self, value, mod).\n",
      " |  \n",
      " |  __radd__(self, value, /)\n",
      " |      Return value+self.\n",
      " |  \n",
      " |  __rand__(self, value, /)\n",
      " |      Return value&self.\n",
      " |  \n",
      " |  __rdivmod__(self, value, /)\n",
      " |      Return divmod(value, self).\n",
      " |  \n",
      " |  __repr__(self, /)\n",
      " |      Return repr(self).\n",
      " |  \n",
      " |  __rfloordiv__(self, value, /)\n",
      " |      Return value//self.\n",
      " |  \n",
      " |  __rlshift__(self, value, /)\n",
      " |      Return value<<self.\n",
      " |  \n",
      " |  __rmod__(self, value, /)\n",
      " |      Return value%self.\n",
      " |  \n",
      " |  __rmul__(self, value, /)\n",
      " |      Return value*self.\n",
      " |  \n",
      " |  __ror__(self, value, /)\n",
      " |      Return value|self.\n",
      " |  \n",
      " |  __round__(...)\n",
      " |      Rounding an Integral returns itself.\n",
      " |      Rounding with an ndigits argument also returns an integer.\n",
      " |  \n",
      " |  __rpow__(self, value, mod=None, /)\n",
      " |      Return pow(value, self, mod).\n",
      " |  \n",
      " |  __rrshift__(self, value, /)\n",
      " |      Return value>>self.\n",
      " |  \n",
      " |  __rshift__(self, value, /)\n",
      " |      Return self>>value.\n",
      " |  \n",
      " |  __rsub__(self, value, /)\n",
      " |      Return value-self.\n",
      " |  \n",
      " |  __rtruediv__(self, value, /)\n",
      " |      Return value/self.\n",
      " |  \n",
      " |  __rxor__(self, value, /)\n",
      " |      Return value^self.\n",
      " |  \n",
      " |  __sizeof__(self, /)\n",
      " |      Returns size in memory, in bytes.\n",
      " |  \n",
      " |  __sub__(self, value, /)\n",
      " |      Return self-value.\n",
      " |  \n",
      " |  __truediv__(self, value, /)\n",
      " |      Return self/value.\n",
      " |  \n",
      " |  __trunc__(...)\n",
      " |      Truncating an Integral returns itself.\n",
      " |  \n",
      " |  __xor__(self, value, /)\n",
      " |      Return self^value.\n",
      " |  \n",
      " |  as_integer_ratio(self, /)\n",
      " |      Return integer ratio.\n",
      " |      \n",
      " |      Return a pair of integers, whose ratio is exactly equal to the original int\n",
      " |      and with a positive denominator.\n",
      " |      \n",
      " |      >>> (10).as_integer_ratio()\n",
      " |      (10, 1)\n",
      " |      >>> (-10).as_integer_ratio()\n",
      " |      (-10, 1)\n",
      " |      >>> (0).as_integer_ratio()\n",
      " |      (0, 1)\n",
      " |  \n",
      " |  bit_length(self, /)\n",
      " |      Number of bits necessary to represent self in binary.\n",
      " |      \n",
      " |      >>> bin(37)\n",
      " |      '0b100101'\n",
      " |      >>> (37).bit_length()\n",
      " |      6\n",
      " |  \n",
      " |  conjugate(...)\n",
      " |      Returns self, the complex conjugate of any int.\n",
      " |  \n",
      " |  to_bytes(self, /, length, byteorder, *, signed=False)\n",
      " |      Return an array of bytes representing an integer.\n",
      " |      \n",
      " |      length\n",
      " |        Length of bytes object to use.  An OverflowError is raised if the\n",
      " |        integer is not representable with the given number of bytes.\n",
      " |      byteorder\n",
      " |        The byte order used to represent the integer.  If byteorder is 'big',\n",
      " |        the most significant byte is at the beginning of the byte array.  If\n",
      " |        byteorder is 'little', the most significant byte is at the end of the\n",
      " |        byte array.  To request the native byte order of the host system, use\n",
      " |        `sys.byteorder' as the byte order value.\n",
      " |      signed\n",
      " |        Determines whether two's complement is used to represent the integer.\n",
      " |        If signed is False and a negative integer is given, an OverflowError\n",
      " |        is raised.\n",
      " |  \n",
      " |  ----------------------------------------------------------------------\n",
      " |  Class methods defined here:\n",
      " |  \n",
      " |  from_bytes(bytes, byteorder, *, signed=False) from builtins.type\n",
      " |      Return the integer represented by the given array of bytes.\n",
      " |      \n",
      " |      bytes\n",
      " |        Holds the array of bytes to convert.  The argument must either\n",
      " |        support the buffer protocol or be an iterable object producing bytes.\n",
      " |        Bytes and bytearray are examples of built-in objects that support the\n",
      " |        buffer protocol.\n",
      " |      byteorder\n",
      " |        The byte order used to represent the integer.  If byteorder is 'big',\n",
      " |        the most significant byte is at the beginning of the byte array.  If\n",
      " |        byteorder is 'little', the most significant byte is at the end of the\n",
      " |        byte array.  To request the native byte order of the host system, use\n",
      " |        `sys.byteorder' as the byte order value.\n",
      " |      signed\n",
      " |        Indicates whether two's complement is used to represent the integer.\n",
      " |  \n",
      " |  ----------------------------------------------------------------------\n",
      " |  Static methods defined here:\n",
      " |  \n",
      " |  __new__(*args, **kwargs) from builtins.type\n",
      " |      Create and return a new object.  See help(type) for accurate signature.\n",
      " |  \n",
      " |  ----------------------------------------------------------------------\n",
      " |  Data descriptors defined here:\n",
      " |  \n",
      " |  denominator\n",
      " |      the denominator of a rational number in lowest terms\n",
      " |  \n",
      " |  imag\n",
      " |      the imaginary part of a complex number\n",
      " |  \n",
      " |  numerator\n",
      " |      the numerator of a rational number in lowest terms\n",
      " |  \n",
      " |  real\n",
      " |      the real part of a complex number\n",
      "\n"
     ]
    }
   ],
   "source": [
    "#Objects combine data and funtions\n",
    "#Objects can be created by using keyword class\n",
    "#Everything in Python is an object, as proved below\n",
    "\n",
    "x = 1\n",
    "help(x)"
   ]
  },
  {
   "cell_type": "code",
   "execution_count": 11,
   "metadata": {},
   "outputs": [
    {
     "name": "stdout",
     "output_type": "stream",
     "text": [
      "Help on list object:\n",
      "\n",
      "class list(object)\n",
      " |  list(iterable=(), /)\n",
      " |  \n",
      " |  Built-in mutable sequence.\n",
      " |  \n",
      " |  If no argument is given, the constructor creates a new empty list.\n",
      " |  The argument must be an iterable if specified.\n",
      " |  \n",
      " |  Methods defined here:\n",
      " |  \n",
      " |  __add__(self, value, /)\n",
      " |      Return self+value.\n",
      " |  \n",
      " |  __contains__(self, key, /)\n",
      " |      Return key in self.\n",
      " |  \n",
      " |  __delitem__(self, key, /)\n",
      " |      Delete self[key].\n",
      " |  \n",
      " |  __eq__(self, value, /)\n",
      " |      Return self==value.\n",
      " |  \n",
      " |  __ge__(self, value, /)\n",
      " |      Return self>=value.\n",
      " |  \n",
      " |  __getattribute__(self, name, /)\n",
      " |      Return getattr(self, name).\n",
      " |  \n",
      " |  __getitem__(...)\n",
      " |      x.__getitem__(y) <==> x[y]\n",
      " |  \n",
      " |  __gt__(self, value, /)\n",
      " |      Return self>value.\n",
      " |  \n",
      " |  __iadd__(self, value, /)\n",
      " |      Implement self+=value.\n",
      " |  \n",
      " |  __imul__(self, value, /)\n",
      " |      Implement self*=value.\n",
      " |  \n",
      " |  __init__(self, /, *args, **kwargs)\n",
      " |      Initialize self.  See help(type(self)) for accurate signature.\n",
      " |  \n",
      " |  __iter__(self, /)\n",
      " |      Implement iter(self).\n",
      " |  \n",
      " |  __le__(self, value, /)\n",
      " |      Return self<=value.\n",
      " |  \n",
      " |  __len__(self, /)\n",
      " |      Return len(self).\n",
      " |  \n",
      " |  __lt__(self, value, /)\n",
      " |      Return self<value.\n",
      " |  \n",
      " |  __mul__(self, value, /)\n",
      " |      Return self*value.\n",
      " |  \n",
      " |  __ne__(self, value, /)\n",
      " |      Return self!=value.\n",
      " |  \n",
      " |  __repr__(self, /)\n",
      " |      Return repr(self).\n",
      " |  \n",
      " |  __reversed__(self, /)\n",
      " |      Return a reverse iterator over the list.\n",
      " |  \n",
      " |  __rmul__(self, value, /)\n",
      " |      Return value*self.\n",
      " |  \n",
      " |  __setitem__(self, key, value, /)\n",
      " |      Set self[key] to value.\n",
      " |  \n",
      " |  __sizeof__(self, /)\n",
      " |      Return the size of the list in memory, in bytes.\n",
      " |  \n",
      " |  append(self, object, /)\n",
      " |      Append object to the end of the list.\n",
      " |  \n",
      " |  clear(self, /)\n",
      " |      Remove all items from list.\n",
      " |  \n",
      " |  copy(self, /)\n",
      " |      Return a shallow copy of the list.\n",
      " |  \n",
      " |  count(self, value, /)\n",
      " |      Return number of occurrences of value.\n",
      " |  \n",
      " |  extend(self, iterable, /)\n",
      " |      Extend list by appending elements from the iterable.\n",
      " |  \n",
      " |  index(self, value, start=0, stop=9223372036854775807, /)\n",
      " |      Return first index of value.\n",
      " |      \n",
      " |      Raises ValueError if the value is not present.\n",
      " |  \n",
      " |  insert(self, index, object, /)\n",
      " |      Insert object before index.\n",
      " |  \n",
      " |  pop(self, index=-1, /)\n",
      " |      Remove and return item at index (default last).\n",
      " |      \n",
      " |      Raises IndexError if list is empty or index is out of range.\n",
      " |  \n",
      " |  remove(self, value, /)\n",
      " |      Remove first occurrence of value.\n",
      " |      \n",
      " |      Raises ValueError if the value is not present.\n",
      " |  \n",
      " |  reverse(self, /)\n",
      " |      Reverse *IN PLACE*.\n",
      " |  \n",
      " |  sort(self, /, *, key=None, reverse=False)\n",
      " |      Sort the list in ascending order and return None.\n",
      " |      \n",
      " |      The sort is in-place (i.e. the list itself is modified) and stable (i.e. the\n",
      " |      order of two equal elements is maintained).\n",
      " |      \n",
      " |      If a key function is given, apply it once to each list item and sort them,\n",
      " |      ascending or descending, according to their function values.\n",
      " |      \n",
      " |      The reverse flag can be set to sort in descending order.\n",
      " |  \n",
      " |  ----------------------------------------------------------------------\n",
      " |  Static methods defined here:\n",
      " |  \n",
      " |  __new__(*args, **kwargs) from builtins.type\n",
      " |      Create and return a new object.  See help(type) for accurate signature.\n",
      " |  \n",
      " |  ----------------------------------------------------------------------\n",
      " |  Data and other attributes defined here:\n",
      " |  \n",
      " |  __hash__ = None\n",
      "\n"
     ]
    }
   ],
   "source": [
    "#list\n",
    "\n",
    "y = [1,2,3]\n",
    "help(y)"
   ]
  },
  {
   "cell_type": "code",
   "execution_count": 12,
   "metadata": {},
   "outputs": [
    {
     "data": {
      "text/plain": [
       "['__add__',\n",
       " '__class__',\n",
       " '__contains__',\n",
       " '__delattr__',\n",
       " '__delitem__',\n",
       " '__dir__',\n",
       " '__doc__',\n",
       " '__eq__',\n",
       " '__format__',\n",
       " '__ge__',\n",
       " '__getattribute__',\n",
       " '__getitem__',\n",
       " '__gt__',\n",
       " '__hash__',\n",
       " '__iadd__',\n",
       " '__imul__',\n",
       " '__init__',\n",
       " '__init_subclass__',\n",
       " '__iter__',\n",
       " '__le__',\n",
       " '__len__',\n",
       " '__lt__',\n",
       " '__mul__',\n",
       " '__ne__',\n",
       " '__new__',\n",
       " '__reduce__',\n",
       " '__reduce_ex__',\n",
       " '__repr__',\n",
       " '__reversed__',\n",
       " '__rmul__',\n",
       " '__setattr__',\n",
       " '__setitem__',\n",
       " '__sizeof__',\n",
       " '__str__',\n",
       " '__subclasshook__',\n",
       " 'append',\n",
       " 'clear',\n",
       " 'copy',\n",
       " 'count',\n",
       " 'extend',\n",
       " 'index',\n",
       " 'insert',\n",
       " 'pop',\n",
       " 'remove',\n",
       " 'reverse',\n",
       " 'sort']"
      ]
     },
     "execution_count": 12,
     "metadata": {},
     "output_type": "execute_result"
    }
   ],
   "source": [
    "#attributes and functions that can be accessed by 'dot notation'\n",
    "\n",
    "dir(y)"
   ]
  },
  {
   "cell_type": "code",
   "execution_count": 23,
   "metadata": {},
   "outputs": [
    {
     "name": "stdout",
     "output_type": "stream",
     "text": [
      "[1, 2, 3, 5, 5, 5, 5, 5, 5, 5, 5, 5, 5, 1, 1, 0]\n"
     ]
    }
   ],
   "source": [
    "y.append(0)\n",
    "\n",
    "print(y)"
   ]
  },
  {
   "cell_type": "code",
   "execution_count": 26,
   "metadata": {},
   "outputs": [
    {
     "name": "stdout",
     "output_type": "stream",
     "text": [
      "Help on dict object:\n",
      "\n",
      "class dict(object)\n",
      " |  dict() -> new empty dictionary\n",
      " |  dict(mapping) -> new dictionary initialized from a mapping object's\n",
      " |      (key, value) pairs\n",
      " |  dict(iterable) -> new dictionary initialized as if via:\n",
      " |      d = {}\n",
      " |      for k, v in iterable:\n",
      " |          d[k] = v\n",
      " |  dict(**kwargs) -> new dictionary initialized with the name=value pairs\n",
      " |      in the keyword argument list.  For example:  dict(one=1, two=2)\n",
      " |  \n",
      " |  Built-in subclasses:\n",
      " |      StgDict\n",
      " |  \n",
      " |  Methods defined here:\n",
      " |  \n",
      " |  __contains__(self, key, /)\n",
      " |      True if the dictionary has the specified key, else False.\n",
      " |  \n",
      " |  __delitem__(self, key, /)\n",
      " |      Delete self[key].\n",
      " |  \n",
      " |  __eq__(self, value, /)\n",
      " |      Return self==value.\n",
      " |  \n",
      " |  __ge__(self, value, /)\n",
      " |      Return self>=value.\n",
      " |  \n",
      " |  __getattribute__(self, name, /)\n",
      " |      Return getattr(self, name).\n",
      " |  \n",
      " |  __getitem__(...)\n",
      " |      x.__getitem__(y) <==> x[y]\n",
      " |  \n",
      " |  __gt__(self, value, /)\n",
      " |      Return self>value.\n",
      " |  \n",
      " |  __init__(self, /, *args, **kwargs)\n",
      " |      Initialize self.  See help(type(self)) for accurate signature.\n",
      " |  \n",
      " |  __iter__(self, /)\n",
      " |      Implement iter(self).\n",
      " |  \n",
      " |  __le__(self, value, /)\n",
      " |      Return self<=value.\n",
      " |  \n",
      " |  __len__(self, /)\n",
      " |      Return len(self).\n",
      " |  \n",
      " |  __lt__(self, value, /)\n",
      " |      Return self<value.\n",
      " |  \n",
      " |  __ne__(self, value, /)\n",
      " |      Return self!=value.\n",
      " |  \n",
      " |  __repr__(self, /)\n",
      " |      Return repr(self).\n",
      " |  \n",
      " |  __reversed__(self, /)\n",
      " |      Return a reverse iterator over the dict keys.\n",
      " |  \n",
      " |  __setitem__(self, key, value, /)\n",
      " |      Set self[key] to value.\n",
      " |  \n",
      " |  __sizeof__(...)\n",
      " |      D.__sizeof__() -> size of D in memory, in bytes\n",
      " |  \n",
      " |  clear(...)\n",
      " |      D.clear() -> None.  Remove all items from D.\n",
      " |  \n",
      " |  copy(...)\n",
      " |      D.copy() -> a shallow copy of D\n",
      " |  \n",
      " |  get(self, key, default=None, /)\n",
      " |      Return the value for key if key is in the dictionary, else default.\n",
      " |  \n",
      " |  items(...)\n",
      " |      D.items() -> a set-like object providing a view on D's items\n",
      " |  \n",
      " |  keys(...)\n",
      " |      D.keys() -> a set-like object providing a view on D's keys\n",
      " |  \n",
      " |  pop(...)\n",
      " |      D.pop(k[,d]) -> v, remove specified key and return the corresponding value.\n",
      " |      If key is not found, d is returned if given, otherwise KeyError is raised\n",
      " |  \n",
      " |  popitem(self, /)\n",
      " |      Remove and return a (key, value) pair as a 2-tuple.\n",
      " |      \n",
      " |      Pairs are returned in LIFO (last-in, first-out) order.\n",
      " |      Raises KeyError if the dict is empty.\n",
      " |  \n",
      " |  setdefault(self, key, default=None, /)\n",
      " |      Insert key with a value of default if key is not in the dictionary.\n",
      " |      \n",
      " |      Return the value for key if key is in the dictionary, else default.\n",
      " |  \n",
      " |  update(...)\n",
      " |      D.update([E, ]**F) -> None.  Update D from dict/iterable E and F.\n",
      " |      If E is present and has a .keys() method, then does:  for k in E: D[k] = E[k]\n",
      " |      If E is present and lacks a .keys() method, then does:  for k, v in E: D[k] = v\n",
      " |      In either case, this is followed by: for k in F:  D[k] = F[k]\n",
      " |  \n",
      " |  values(...)\n",
      " |      D.values() -> an object providing a view on D's values\n",
      " |  \n",
      " |  ----------------------------------------------------------------------\n",
      " |  Class methods defined here:\n",
      " |  \n",
      " |  fromkeys(iterable, value=None, /) from builtins.type\n",
      " |      Create a new dictionary with keys from iterable and values set to value.\n",
      " |  \n",
      " |  ----------------------------------------------------------------------\n",
      " |  Static methods defined here:\n",
      " |  \n",
      " |  __new__(*args, **kwargs) from builtins.type\n",
      " |      Create and return a new object.  See help(type) for accurate signature.\n",
      " |  \n",
      " |  ----------------------------------------------------------------------\n",
      " |  Data and other attributes defined here:\n",
      " |  \n",
      " |  __hash__ = None\n",
      "\n"
     ]
    }
   ],
   "source": [
    "#dictionary\n",
    "#'Z' is a dictionary object belonging to the class Dictionary\n",
    "z = {'a':1}\n",
    "help(z)"
   ]
  },
  {
   "cell_type": "code",
   "execution_count": 27,
   "metadata": {},
   "outputs": [
    {
     "data": {
      "text/plain": [
       "['__class__',\n",
       " '__contains__',\n",
       " '__delattr__',\n",
       " '__delitem__',\n",
       " '__dir__',\n",
       " '__doc__',\n",
       " '__eq__',\n",
       " '__format__',\n",
       " '__ge__',\n",
       " '__getattribute__',\n",
       " '__getitem__',\n",
       " '__gt__',\n",
       " '__hash__',\n",
       " '__init__',\n",
       " '__init_subclass__',\n",
       " '__iter__',\n",
       " '__le__',\n",
       " '__len__',\n",
       " '__lt__',\n",
       " '__ne__',\n",
       " '__new__',\n",
       " '__reduce__',\n",
       " '__reduce_ex__',\n",
       " '__repr__',\n",
       " '__reversed__',\n",
       " '__setattr__',\n",
       " '__setitem__',\n",
       " '__sizeof__',\n",
       " '__str__',\n",
       " '__subclasshook__',\n",
       " 'clear',\n",
       " 'copy',\n",
       " 'fromkeys',\n",
       " 'get',\n",
       " 'items',\n",
       " 'keys',\n",
       " 'pop',\n",
       " 'popitem',\n",
       " 'setdefault',\n",
       " 'update',\n",
       " 'values']"
      ]
     },
     "execution_count": 27,
     "metadata": {},
     "output_type": "execute_result"
    }
   ],
   "source": [
    "#dictionary methods and the attributes \n",
    "dir(z)"
   ]
  },
  {
   "cell_type": "code",
   "execution_count": 33,
   "metadata": {},
   "outputs": [
    {
     "name": "stdout",
     "output_type": "stream",
     "text": [
      "<__main__.Patient object at 0x0000025D1DA071C0>\n",
      "Steven\n"
     ]
    }
   ],
   "source": [
    "#Classes are the blueprint of an object\n",
    "#The class is a design and the object is what is used in that design\n",
    "#simple example\n",
    "# '''Medical centre patient''' describes what the class is\n",
    "#\n",
    "class Patient(object):\n",
    "    '''Medical centre patient'''\n",
    "    pass\n",
    "x = Patient()\n",
    "print(x)\n",
    "x.name = 'Steven'\n",
    "x.age = '48'\n",
    "print(x.name)"
   ]
  },
  {
   "cell_type": "code",
   "execution_count": 44,
   "metadata": {},
   "outputs": [
    {
     "name": "stdout",
     "output_type": "stream",
     "text": [
      "Steven Hughes\n"
     ]
    }
   ],
   "source": [
    "#Better way of creating variables \n",
    "#using function\n",
    "#each instant of the obejct will have different values \n",
    "#the veriables are created by the constructor below\n",
    "#each object of this class contains its own variables\n",
    "#\n",
    "#\n",
    "class Patient(object):\n",
    "    '''Medical centre patient'''\n",
    "    \n",
    "    \n",
    "    def __init__(self, name,age):\n",
    "        \n",
    "        self.name = name\n",
    "        self.age = age\n",
    "        \n",
    "Steve = Patient('Steven Hughes', 48)\n",
    "print(steve.name)\n",
    "\n",
    "        \n",
    "    "
   ]
  },
  {
   "cell_type": "code",
   "execution_count": 45,
   "metadata": {},
   "outputs": [
    {
     "name": "stdout",
     "output_type": "stream",
     "text": [
      "Abigail Sandwick\n"
     ]
    }
   ],
   "source": [
    "abigail = Patient('Abigail Sandwick',32)\n",
    "print(abigail.name)"
   ]
  },
  {
   "cell_type": "code",
   "execution_count": 48,
   "metadata": {},
   "outputs": [
    {
     "name": "stdout",
     "output_type": "stream",
     "text": [
      "patient\n",
      "patient\n"
     ]
    }
   ],
   "source": [
    "#Class variables\n",
    "#shared variables accross the whole class, the same for all instances\n",
    "#of that class\n",
    "#needs to be put above the constructor: 'status'\n",
    "\n",
    "class Patient(object):\n",
    "    '''Medical centre patient'''\n",
    "    \n",
    "    status = 'patient'\n",
    "    \n",
    "    def __init__(self, name, age):\n",
    "        self.name = name\n",
    "        self.age = age\n",
    "#\n",
    "#\n",
    "abigail = Patient('Abigail Sandwick', 32)\n",
    "print(abigail.status)\n",
    "steve =  Patient('Steven Hughes', 48)\n",
    "print(steve.status)"
   ]
  },
  {
   "cell_type": "code",
   "execution_count": 70,
   "metadata": {},
   "outputs": [
    {
     "name": "stdout",
     "output_type": "stream",
     "text": [
      "Steven Hughes\n",
      "patient\n",
      "Patient record: Steven Hughes, 48 years. Current information: ['Patient treated for ear infection - amoxycilin prescribed'].\n",
      "None\n"
     ]
    }
   ],
   "source": [
    "#Methods\n",
    "#interacting with created data with a use of function\n",
    "#'dot notation'\n",
    "#self.conditions refers to an empty list\n",
    "\n",
    "\n",
    "class Patient(object):\n",
    "    '''Medical centre patient'''\n",
    "    \n",
    "    status = 'patient'\n",
    "    \n",
    "    def __init__(self, name, age):\n",
    "        self.name = name\n",
    "        self.age = age\n",
    "        self.conditions = []\n",
    "        \n",
    "    def get_details(self):\n",
    "        print(f'Patient record: {self.name}, {self.age} years.' \\\n",
    "              f' Current information: {self.conditions}.')\n",
    "        \n",
    "    def add_info(self, information):\n",
    "        self.conditions.append(information)\n",
    "#\n",
    "steve = Patient('Steven Hughes', 48)\n",
    "print(steve.name)\n",
    "\n",
    "steve.add_info('Patient treated for ear infection - amoxycilin prescribed')\n",
    "\n",
    "print(steve.status)\n",
    "print(steve.get_details())"
   ]
  },
  {
   "cell_type": "code",
   "execution_count": 65,
   "metadata": {},
   "outputs": [
    {
     "name": "stdout",
     "output_type": "stream",
     "text": [
      "patient\n"
     ]
    }
   ],
   "source": [
    "#Inheritence\n",
    "#allows to create new classes derived from other classes\n",
    "#child and parent classes\n",
    "#init function\n",
    "#'vaccination' as a variable function\n",
    "#'super' function seachers for parent class\n",
    "\n",
    "class Infant(Patient):\n",
    "    '''Patient under 2 years'''\n",
    "    \n",
    "    def __init__(self, name, age):\n",
    "        self.vaccinations = []\n",
    "        super().__init__(name,age)\n",
    "        \n",
    "    def add_vac(self, vaccine):\n",
    "        self.vaccinations.append(vaccine)\n",
    "        \n",
    "    def get_details(self):\n",
    "        print(f' Patient record: {self.name}, {self.age} years.' \\\n",
    "              f' Patient has had {self.vaccinations} vaccines.' \\\n",
    "              f' Current information: {self.conditions}.'\\\n",
    "              f'\\n{self.name} IS AN INFANT, HAS HE HAD ALL HIS CHECKS?')\n",
    "#\n",
    "#\n",
    "#\n",
    "archie = Infant('Archie Fittleworth', 0)\n",
    "print(archie.status)\n",
    "\n",
    "        \n"
   ]
  },
  {
   "cell_type": "code",
   "execution_count": 76,
   "metadata": {
    "scrolled": true
   },
   "outputs": [
    {
     "name": "stdout",
     "output_type": "stream",
     "text": [
      " Patient record: Archie Fittleworth, 0 years. Patient has had [] vaccines. Current information: [].\n",
      "Archie Fittleworth IS AN INFANT, HAS HE HAD ALL HIS CHECKS?\n",
      "None\n"
     ]
    }
   ],
   "source": [
    "print(archie.get_details())"
   ]
  },
  {
   "cell_type": "code",
   "execution_count": 78,
   "metadata": {},
   "outputs": [],
   "source": [
    "#CLASSES, PRACTICAL EXCERCISE\n",
    "\n",
    "'''Create a class to present a bank account. It will need to have a balance,\n",
    "a method of withdrawing money, depositing money and displaying the balance\n",
    "to the screen. Create an instance of the bank account and check that the \n",
    "methods work as expected'''\n",
    "\n",
    "class BankAccount(object):\n",
    "    '''Docstring to go here'''\n",
    "    \n",
    "    def __init__(self,balance=0.0):\n",
    "        self.balance = balance\n",
    "        \n",
    "    def display_balance(self):\n",
    "        print(f'Your balance is {self.balance}')\n",
    "    \n",
    "    def make_deposit(self):\n",
    "        amount = float(input('How much would you like to deposit?:>'))\n",
    "        self.balance += amount\n",
    "        print(f'Balance is now {self.balance}.')\n",
    "        \n",
    "    def make_withdrawal(self):\n",
    "        amount = float(input('How much would you like to withdraw?:>'))\n",
    "        if amount > self.balance:\n",
    "            print(f'You do not have sufficient funds, your balance is {self.balance}.')\n",
    "                  \n",
    "        else:\n",
    "            self.balance -= amount\n",
    "            print(f'Withdrawal successful: balance is now {self.balance}.')\n",
    "                  \n",
    "                  \n",
    "        \n",
    "\n"
   ]
  },
  {
   "cell_type": "code",
   "execution_count": 80,
   "metadata": {},
   "outputs": [
    {
     "name": "stdout",
     "output_type": "stream",
     "text": [
      "Your balance is 300\n",
      "None\n"
     ]
    }
   ],
   "source": [
    "my_bank = BankAccount(300)\n",
    "print(my_bank.display_balance())"
   ]
  },
  {
   "cell_type": "code",
   "execution_count": 81,
   "metadata": {},
   "outputs": [
    {
     "name": "stdout",
     "output_type": "stream",
     "text": [
      "How much would you like to deposit?:>600\n",
      "Balance is now 900.0.\n"
     ]
    }
   ],
   "source": [
    "my_bank.make_deposit()"
   ]
  },
  {
   "cell_type": "code",
   "execution_count": 82,
   "metadata": {},
   "outputs": [
    {
     "name": "stdout",
     "output_type": "stream",
     "text": [
      "How much would you like to withdraw?:>300\n",
      "Withdrawal successful: balance is now 600.0.\n"
     ]
    }
   ],
   "source": [
    "my_bank.make_withdrawal()"
   ]
  },
  {
   "cell_type": "code",
   "execution_count": 84,
   "metadata": {},
   "outputs": [
    {
     "name": "stdout",
     "output_type": "stream",
     "text": [
      "How much would you like to withdraw?:>700\n",
      "You do not have sufficient funds, your balance is 600.0.\n"
     ]
    }
   ],
   "source": [
    "my_bank.make_withdrawal()"
   ]
  },
  {
   "cell_type": "markdown",
   "metadata": {},
   "source": [
    "### Caesar two sum"
   ]
  },
  {
   "cell_type": "code",
   "execution_count": 1,
   "metadata": {},
   "outputs": [],
   "source": [
    "#Encrypting a message\n",
    "#Caesar cipher-taking the letter from the oryginal text and shifting it \n",
    "#Encrypt: 'The cat sat on the mat' by moving each letter by 5 signs\n",
    "#('A',5)->A->F, B->G\n",
    "#using def function\n",
    "#def ecnrypt(text, num):\n",
    "\n",
    "#how to approach, simple version\n",
    "alphabet = 'abcdefghijklmnopqrstuvwxyz'\n",
    "input_text = 'hello'\n"
   ]
  },
  {
   "cell_type": "code",
   "execution_count": 2,
   "metadata": {},
   "outputs": [
    {
     "name": "stdout",
     "output_type": "stream",
     "text": [
      "khoor\n"
     ]
    }
   ],
   "source": [
    "output = ''\n",
    "for char in input_text:\n",
    "    alpha_index = alphabet.find(char)\n",
    "    output = output + alphabet[alpha_index+3]\n",
    "print(output)\n"
   ]
  },
  {
   "cell_type": "code",
   "execution_count": 8,
   "metadata": {},
   "outputs": [
    {
     "ename": "IndexError",
     "evalue": "string index out of range",
     "output_type": "error",
     "traceback": [
      "\u001b[1;31m---------------------------------------------------------------------------\u001b[0m",
      "\u001b[1;31mIndexError\u001b[0m                                Traceback (most recent call last)",
      "\u001b[1;32m<ipython-input-8-1853f51c3c57>\u001b[0m in \u001b[0;36m<module>\u001b[1;34m\u001b[0m\n\u001b[0;32m      7\u001b[0m \u001b[1;32mfor\u001b[0m \u001b[0mchar\u001b[0m \u001b[1;32min\u001b[0m \u001b[0minput_text\u001b[0m\u001b[1;33m:\u001b[0m\u001b[1;33m\u001b[0m\u001b[1;33m\u001b[0m\u001b[0m\n\u001b[0;32m      8\u001b[0m     \u001b[0malpha_index\u001b[0m \u001b[1;33m=\u001b[0m \u001b[0malphabet\u001b[0m\u001b[1;33m.\u001b[0m\u001b[0mfind\u001b[0m\u001b[1;33m(\u001b[0m\u001b[0mchar\u001b[0m\u001b[1;33m)\u001b[0m\u001b[1;33m\u001b[0m\u001b[1;33m\u001b[0m\u001b[0m\n\u001b[1;32m----> 9\u001b[1;33m     \u001b[0moutput\u001b[0m \u001b[1;33m=\u001b[0m \u001b[0moutput\u001b[0m \u001b[1;33m+\u001b[0m \u001b[0malphabet\u001b[0m\u001b[1;33m[\u001b[0m\u001b[0malpha_index\u001b[0m\u001b[1;33m+\u001b[0m\u001b[1;36m30\u001b[0m\u001b[1;33m]\u001b[0m\u001b[1;33m\u001b[0m\u001b[1;33m\u001b[0m\u001b[0m\n\u001b[0m\u001b[0;32m     10\u001b[0m \u001b[0mprint\u001b[0m\u001b[1;33m(\u001b[0m\u001b[0moutput\u001b[0m\u001b[1;33m)\u001b[0m\u001b[1;33m\u001b[0m\u001b[1;33m\u001b[0m\u001b[0m\n\u001b[0;32m     11\u001b[0m \u001b[1;33m\u001b[0m\u001b[0m\n",
      "\u001b[1;31mIndexError\u001b[0m: string index out of range"
     ]
    }
   ],
   "source": [
    "#in case the cipher index goes beyond end of alphabet\n",
    "#use modulo operator, it gives the remainder of devision\n",
    "#in case of the alphabet, the modulus operator would bring back to\n",
    "#the beginning  of the alphabet\n",
    "\n",
    "output = ''\n",
    "for char in input_text:\n",
    "    alpha_index = alphabet.find(char)\n",
    "    output = output + alphabet[alpha_index+30]\n",
    "print(output)\n",
    "\n",
    "#below is the solution of how to deal with the 'string index out of range'\n",
    "#modulus operator should bring back to the beginning of the alphabet"
   ]
  },
  {
   "cell_type": "code",
   "execution_count": 11,
   "metadata": {},
   "outputs": [
    {
     "name": "stdout",
     "output_type": "stream",
     "text": [
      "\n"
     ]
    }
   ],
   "source": [
    "#function to deal with shift\n",
    "\n",
    "def shift_amount(i):\n",
    "    '''Will determine the shift, taking into account the length of the alphabet. Takes integer -'''\n",
    "    return i%26\n"
   ]
  },
  {
   "cell_type": "code",
   "execution_count": 12,
   "metadata": {},
   "outputs": [
    {
     "name": "stdout",
     "output_type": "stream",
     "text": [
      "lipps\n"
     ]
    }
   ],
   "source": [
    "#testing the above function for shift>26\n",
    "output_1 = ''\n",
    "for char in input_text:\n",
    "    alpha_index = alphabet.find(char)\n",
    "    output_1 = output_1 + alphabet[shift_amount(alpha_index+30)]\n",
    "print(output_1)"
   ]
  },
  {
   "cell_type": "code",
   "execution_count": 17,
   "metadata": {},
   "outputs": [],
   "source": [
    "#A complete function\n",
    "#all the text is converted to lower case \n",
    "\n",
    "def encrypt(text, required_shift):\n",
    "    out_string = ''\n",
    "    text = text.lower()\n",
    "    for char in text:\n",
    "        if char not in alphabet:\n",
    "            out_string = out_string + char\n",
    "        else:\n",
    "            alpha_index = alphabet.find(char)\n",
    "            out_string = out_string + alphabet[shift_amount(alpha_index + required_shift)]\n",
    "    return out_string\n"
   ]
  },
  {
   "cell_type": "code",
   "execution_count": 18,
   "metadata": {},
   "outputs": [],
   "source": [
    "#encrypting a string with the above function \n",
    "\n",
    "new_string = 'Once upon'\n",
    "shift = encrypt(new_string, 5)"
   ]
  },
  {
   "cell_type": "code",
   "execution_count": 19,
   "metadata": {},
   "outputs": [
    {
     "data": {
      "text/plain": [
       "'tshj zuts'"
      ]
     },
     "execution_count": 19,
     "metadata": {},
     "output_type": "execute_result"
    }
   ],
   "source": [
    "shift"
   ]
  },
  {
   "cell_type": "code",
   "execution_count": 20,
   "metadata": {},
   "outputs": [
    {
     "name": "stdout",
     "output_type": "stream",
     "text": [
      "esp nle dle zy esp xle\n"
     ]
    }
   ],
   "source": [
    "question_text = 'The cat sat on the mat'\n",
    "print(encrypt(question_text, 11))"
   ]
  },
  {
   "cell_type": "markdown",
   "metadata": {},
   "source": [
    "#### Two sum problem"
   ]
  },
  {
   "cell_type": "code",
   "execution_count": 24,
   "metadata": {},
   "outputs": [],
   "source": [
    "#example\n",
    "#L = [2,5,3,7,2]\n",
    "# Target = 10\n",
    "#finding two numbers which sum equals 10\n",
    "#going through array by creating a dictionary and key value pairs\n",
    "#interating indices of the list\n",
    "\n",
    "def two_sum(nums, target):\n",
    "    d = {}\n",
    "    \n",
    "    for i in range(len(nums)):\n",
    "        if target - nums[i] in d:\n",
    "            print(d)\n",
    "            return [d[target-nums[i]],i]\n",
    "        \n",
    "        d[nums[i]] = i\n",
    "        \n",
    "    return -1"
   ]
  },
  {
   "cell_type": "code",
   "execution_count": 23,
   "metadata": {},
   "outputs": [
    {
     "name": "stdout",
     "output_type": "stream",
     "text": [
      "{8: 0, 6: 1, 11: 2}\n",
      "[1, 3]\n"
     ]
    }
   ],
   "source": [
    "#example, Two sum problem, pattern as above\n",
    "\n",
    "L = [8, 6, 11, 3]\n",
    "print(two_sum(L,9))"
   ]
  },
  {
   "cell_type": "code",
   "execution_count": 26,
   "metadata": {},
   "outputs": [
    {
     "name": "stdout",
     "output_type": "stream",
     "text": [
      "{2: 0, 5: 1, 3: 2}\n",
      "[2, 3]\n"
     ]
    }
   ],
   "source": [
    "L2 = [2,5,3,7,4]\n",
    "print(two_sum(L2,10))"
   ]
  },
  {
   "cell_type": "code",
   "execution_count": 27,
   "metadata": {},
   "outputs": [
    {
     "name": "stdout",
     "output_type": "stream",
     "text": [
      "{3: 0}\n",
      "[0, 1]\n"
     ]
    }
   ],
   "source": [
    "print(two_sum([3,3], 6))"
   ]
  },
  {
   "cell_type": "markdown",
   "metadata": {},
   "source": [
    "#### Playing card class"
   ]
  },
  {
   "cell_type": "code",
   "execution_count": 43,
   "metadata": {},
   "outputs": [],
   "source": [
    "#class Card, self.value, self.suit, display function\n",
    "#str method, double underscore, it prints what is created in this method\n",
    "\n",
    "\n",
    "class Card(object):\n",
    "    \n",
    "      \n",
    "    def __init__ (self, value, suit):\n",
    "        self.value = value\n",
    "        self.suit = suit\n",
    "        \n",
    "    def get_value(self):\n",
    "        return self.value\n",
    "    \n",
    "    def get_suit(self):\n",
    "        return self.suit\n",
    "    \n",
    "    def __str__(self):\n",
    "        \n",
    "        my_card = str(self.value) + ' of ' + str(self.suit)\n",
    "        return my_card\n",
    "        \n",
    "       \n",
    "        "
   ]
  },
  {
   "cell_type": "code",
   "execution_count": 44,
   "metadata": {},
   "outputs": [],
   "source": [
    "my_card = Card(3, 'd')\n"
   ]
  },
  {
   "cell_type": "code",
   "execution_count": 45,
   "metadata": {},
   "outputs": [
    {
     "name": "stdout",
     "output_type": "stream",
     "text": [
      "3 of d\n"
     ]
    }
   ],
   "source": [
    "print(my_card)"
   ]
  },
  {
   "cell_type": "code",
   "execution_count": 46,
   "metadata": {},
   "outputs": [],
   "source": [
    "my_card_2 = Card(1, 'h')"
   ]
  },
  {
   "cell_type": "code",
   "execution_count": 48,
   "metadata": {},
   "outputs": [
    {
     "name": "stdout",
     "output_type": "stream",
     "text": [
      "1 of h\n"
     ]
    }
   ],
   "source": [
    "print(my_card_2)"
   ]
  },
  {
   "cell_type": "markdown",
   "metadata": {},
   "source": [
    "### Matplotlib"
   ]
  },
  {
   "cell_type": "code",
   "execution_count": 49,
   "metadata": {},
   "outputs": [],
   "source": [
    "#tool for data visualisation\n",
    "#Random Walk project\n",
    "\n",
    "import matplotlib.pyplot as plt\n",
    "from random import choice\n",
    "%matplotlib inline\n"
   ]
  },
  {
   "cell_type": "code",
   "execution_count": 50,
   "metadata": {},
   "outputs": [],
   "source": [
    "#changing the default display setting for plots\n",
    "plt.rc('figure',figsize=(12,6))"
   ]
  },
  {
   "cell_type": "code",
   "execution_count": 51,
   "metadata": {},
   "outputs": [
    {
     "data": {
      "text/plain": [
       "[0, 5, 10, 15, 20, 25, 30, 35, 40, 45, 50]"
      ]
     },
     "execution_count": 51,
     "metadata": {},
     "output_type": "execute_result"
    }
   ],
   "source": [
    "#Creating x and y values\n",
    "values = list(range(0,55,5))\n",
    "values\n"
   ]
  },
  {
   "cell_type": "code",
   "execution_count": 52,
   "metadata": {},
   "outputs": [
    {
     "data": {
      "image/png": "[encoded data removed]",
      "text/plain": [
       "<Figure size 864x432 with 1 Axes>"
      ]
     },
     "metadata": {
      "needs_background": "light"
     },
     "output_type": "display_data"
    }
   ],
   "source": [
    "#plotting the above values\n",
    "plt.plot(values)\n",
    "plt.show()"
   ]
  },
  {
   "cell_type": "code",
   "execution_count": 54,
   "metadata": {},
   "outputs": [],
   "source": [
    "#the plot can be customised by labelling the x and y axis\n",
    "x_axis = [0.0, 0.1, 0.2, 0.3, 0.4, 0.5, 0.6, 0.7, 0.8, 0.9, 1.0]"
   ]
  },
  {
   "cell_type": "code",
   "execution_count": 56,
   "metadata": {},
   "outputs": [
    {
     "data": {
      "image/png": "[encoded data removed]",
      "text/plain": [
       "<Figure size 864x432 with 1 Axes>"
      ]
     },
     "metadata": {
      "needs_background": "light"
     },
     "output_type": "display_data"
    }
   ],
   "source": [
    "plt.plot(x_axis, values)\n",
    "plt.xlim(0, 1.0)\n",
    "plt.ylim(0,50)\n",
    "plt.title('My Plot')\n",
    "plt.xlabel('This is the horizontal axis')\n",
    "plt.ylabel('Vertical axis')\n",
    "plt.show()"
   ]
  },
  {
   "cell_type": "code",
   "execution_count": 57,
   "metadata": {},
   "outputs": [
    {
     "data": {
      "image/png": "[encoded data removed]",
      "text/plain": [
       "<Figure size 864x432 with 1 Axes>"
      ]
     },
     "metadata": {
      "needs_background": "light"
     },
     "output_type": "display_data"
    }
   ],
   "source": [
    "#chaning the style of the plot\n",
    "#making line black(k) and each point a dot(o)\n",
    "\n",
    "plt.plot(x_axis, values, 'ko--')\n",
    "plt.xlim(0,1.0)\n",
    "plt.ylim(0,50)\n",
    "plt.ylim(0,50)\n",
    "plt.title('Our Plot')\n",
    "plt.xlabel('This is the horizontal axis')\n",
    "plt.ylabel('Vertical axis')\n",
    "plt.show()\n"
   ]
  },
  {
   "cell_type": "markdown",
   "metadata": {},
   "source": [
    "#### Creating a Random Walk using Matplotlib"
   ]
  },
  {
   "cell_type": "code",
   "execution_count": 60,
   "metadata": {},
   "outputs": [
    {
     "data": {
      "text/plain": [
       "-1"
      ]
     },
     "execution_count": 60,
     "metadata": {},
     "output_type": "execute_result"
    }
   ],
   "source": [
    "#concept of a random walk: each move depends on the random result(coin flip analogy)\n",
    "#each step taken is decided randomly\n",
    "\n",
    "step_option = [1,-1]\n",
    "step_choice = choice(step_option)\n",
    "step_choice"
   ]
  },
  {
   "cell_type": "code",
   "execution_count": 61,
   "metadata": {},
   "outputs": [
    {
     "name": "stdout",
     "output_type": "stream",
     "text": [
      "[-1, 0, -1, 0, 1, 2, 3, 2, 3, 2, 1, 0, 1, 2, 1, 0, -1, 0, 1, 2, 3, 2, 3, 2, 1, 2, 1, 0, -1, -2, -3, -2, -1, 0, 1, 2, 1, 2, 1, 0, -1, -2, -1, -2, -1, -2, -1, 0, 1, 0, -1, -2, -3, -4, -3, -4, -3, -4, -5, -4, -5, -4, -3, -4, -3, -4, -5, -4, -3, -2, -1, 0, -1, -2, -3, -2, -1, 0, 1, 0, 1, 0, 1, 0, 1, 2, 3, 4, 3, 4, 5, 6, 7, 8, 9, 10, 9, 8, 7, 8, 9, 10, 9, 8, 7, 8, 7, 8, 9, 10, 9, 8, 9, 8, 9, 10, 9, 10, 9, 10, 11, 10, 11, 12, 11, 12, 11, 10, 11, 10, 9, 8, 7, 8, 9, 8, 7, 6, 5, 6, 7, 8, 7, 8, 9, 8, 7, 8, 9, 8, 9, 10, 11, 12, 11, 10, 9, 8, 9, 8, 7, 8, 9, 8, 9, 8, 7, 8, 9, 8, 7, 8, 7, 8, 9, 8, 7, 6, 7, 6, 7, 6, 5, 4, 3, 2, 1, 0, 1, 2, 1, 0, 1, 0, -1, 0, -1, 0, -1, -2, -1, -2, -3, -4, -3, -2, -1, -2, -1, -2, -3, -4, -5, -4, -5, -6, -5, -6, -5, -4, -5, -4, -3, -4, -3, -2, -1, -2, -3, -4, -3, -4, -3, -4, -3, -4, -5, -6, -5, -4, -5, -6, -7, -6, -7, -6, -5, -4, -3, -4, -3, -4, -3, -4, -5, -6, -7, -8, -9, -8, -7, -8, -9, -8, -9, -8, -9, -10, -11, -10, -11, -10, -9, -8, -9, -10, -11, -12, -11, -10, -9, -8, -7, -8, -9, -8, -7, -8, -7, -6, -5, -4, -5, -6, -7, -8, -9, -10, -11, -12, -13, -12, -13, -12, -13, -14, -13, -14, -13, -12, -13, -14, -13, -12, -13, -14, -13, -14, -15, -16, -17, -18, -19, -20, -19, -20, -19, -18, -19, -20, -21, -20, -21, -20, -19, -20, -21, -22, -23, -22, -23, -24, -25, -24, -23, -24, -25, -26, -25, -26, -25, -26, -27, -28, -27, -26, -25, -26, -25, -26, -27, -28, -29, -28, -27, -28, -29, -28, -27, -26, -27, -26, -27, -26, -25, -24, -25, -24, -23, -24, -25, -24, -23, -22, -23, -22, -23, -24, -23, -22, -23, -22, -21, -20, -19, -20, -21, -22, -21, -20, -19, -20, -19, -20, -21, -22, -23, -24, -25, -26, -27, -28, -27, -28, -27, -28, -27, -26, -25, -26, -25, -26, -25, -26, -25, -26, -25, -26, -25, -24, -25, -24, -23, -24, -23, -24, -25, -24, -23, -22, -21, -20, -21, -22, -23, -24, -25, -26, -25, -24, -23, -22, -21, -22, -21, -20, -19, -18, -19, -20, -19, -18, -19, -20, -19, -20, -21, -20, -19, -18, -19, -20, -21, -22, -21, -20, -19, -18, -19, -20, -19, -20, -21, -20, -21, -22, -21, -22, -23, -22, -21, -20, -19, -18, -19, -18, -19, -20, -21, -22, -21, -22, -21, -22, -23, -24, -25, -26, -27, -28, -29, -30, -31, -30, -29, -30, -29, -30, -29, -28, -27, -28, -27, -28, -27, -28, -29, -28, -29, -28, -29, -28, -29, -28, -29, -30, -31, -30, -29, -30, -31, -30, -31, -30, -31, -30, -29, -28, -27, -28, -29, -28, -27, -28, -29, -28, -27, -28, -27, -28, -29, -28, -27, -28, -27, -28, -29, -30, -31, -30, -31, -30, -31, -30, -29, -30, -31, -30, -31, -30, -31, -30, -31, -30, -29, -30, -29, -30, -31, -30, -29, -30, -29, -30, -31, -32, -33, -34, -33, -34, -35, -36, -37, -36, -37, -36, -37, -38, -39, -40, -41, -42, -41, -42, -43, -42, -43, -42, -41, -42, -43, -42, -41, -42, -43, -42, -41, -42, -41, -40, -39, -38, -37, -38, -39, -38, -39, -40, -39, -38, -37, -36, -37, -36, -37, -36, -35, -36, -37, -36, -37, -36, -37, -38, -39, -40, -39, -40, -41, -40, -41, -42, -41, -40, -39, -38, -37, -36, -37, -38, -39, -38, -37, -36, -37, -38, -37, -38, -37, -38, -39, -40, -41, -40, -39, -40, -41, -40, -39, -40, -41, -40, -39, -38, -37, -38, -39, -40, -41, -42, -41, -42, -43, -44, -43, -42, -43, -42, -41, -40, -39, -38, -39, -40, -39, -40, -41, -40, -41, -42, -43, -42, -43, -42, -41, -42, -43, -42, -43, -44, -45, -44, -45, -44, -45, -44, -45, -44, -43, -42, -41, -42, -43, -44, -43, -42, -43, -42, -41, -42, -41, -40, -39, -38, -39, -40, -41, -42, -41, -40, -39, -38, -37, -36, -37, -36, -37, -38, -37, -38, -37, -36, -35, -36, -37, -36, -37, -36, -35, -36, -35, -34, -33, -32, -31, -30, -31, -30, -31, -30, -29, -30, -31, -30, -29, -30, -29, -30, -31, -32, -33, -32, -31, -32, -31, -30, -31, -32, -31, -32, -33, -34, -33, -34, -33, -32, -31, -30, -29, -30, -31, -30, -29, -30, -29, -30, -29, -28, -27, -26, -25, -26, -27, -28, -27, -28, -27, -26, -25, -26, -27, -26, -27, -26, -27, -26, -25, -24, -23, -24, -25, -24, -23, -22, -23, -24, -25, -24, -23, -22, -23, -24, -25, -26, -25, -26, -25, -26, -25, -24, -23, -22, -21, -20, -19, -18, -19, -18, -19, -20, -21, -20, -19, -20, -19, -20, -19, -18, -17, -16, -15, -16, -15, -14, -13, -12, -13, -12, -11, -12, -11, -12, -11, -12, -11, -10, -11, -12, -13, -12, -11, -12, -11, -12, -13, -12, -13, -14, -15, -16, -17, -16, -17, -18, -19, -18, -17, -18, -17, -16, -15, -16, -17, -16, -17, -16, -15, -16, -15, -16, -15, -16, -17, -18, -17, -18, -19, -18, -17, -18, -17, -18, -19, -18, -17, -18, -17, -18, -17, -16, -15, -16, -17, -16, -17, -18, -19, -18, -17, -18, -19, -18, -19, -20, -19, -18, -19, -20, -19, -18, -19, -18, -17, -16, -17, -18, -17, -18, -19, -18, -19, -20, -19, -18, -17, -18, -17, -18, -17, -18]\n"
     ]
    }
   ],
   "source": [
    "#creating list, tracking steps through random walk\n",
    "#simulating random walk by having a for loop\n",
    "#the first line is not in the for loop because the first step needs to be set up\n",
    "\n",
    "walk = []\n",
    "walk.append(step_choice)\n",
    "for step in range(1, 1000):\n",
    "    next_step = walk[step-1] + choice(step_option)\n",
    "    walk.append(next_step)\n",
    "print(walk)\n"
   ]
  },
  {
   "cell_type": "code",
   "execution_count": 62,
   "metadata": {},
   "outputs": [
    {
     "data": {
      "image/png": "[encoded data removed]",
      "text/plain": [
       "<Figure size 864x432 with 1 Axes>"
      ]
     },
     "metadata": {
      "needs_background": "light"
     },
     "output_type": "display_data"
    }
   ],
   "source": [
    "#visualising the numbers on the plot\n",
    "plt.plot(walk)\n",
    "plt.show()"
   ]
  },
  {
   "cell_type": "code",
   "execution_count": 63,
   "metadata": {},
   "outputs": [],
   "source": [
    "#Using functions is better for random walk\n",
    "def rand_walk(step_num):\n",
    "    walk = []\n",
    "    step_choice = choice([1, -1])\n",
    "    walk.append(step_choice)\n",
    "    for i in range(1, step_num):\n",
    "        step_choice_2 = choice([1,-1])\n",
    "        next_step = walk[i-1] + step_choice_2\n",
    "        walk.append(next_step)\n",
    "    return walk"
   ]
  },
  {
   "cell_type": "code",
   "execution_count": 64,
   "metadata": {},
   "outputs": [
    {
     "name": "stdout",
     "output_type": "stream",
     "text": [
      "100\n"
     ]
    }
   ],
   "source": [
    "random_w = rand_walk(100)\n",
    "print(len(random_w))"
   ]
  },
  {
   "cell_type": "code",
   "execution_count": 65,
   "metadata": {},
   "outputs": [],
   "source": [
    "def plot_walk(walk):\n",
    "    x = list(range(1, len(walk)+1))\n",
    "    \n",
    "    plt.plot(x, walk)\n",
    "    plt.xlabel('Number of Steps')\n",
    "    plt.ylabel('Distance from Origin')\n",
    "    plt.title('My Random Walk')\n",
    "    plt.show()"
   ]
  },
  {
   "cell_type": "code",
   "execution_count": 70,
   "metadata": {},
   "outputs": [
    {
     "data": {
      "image/png": "[encoded data removed]",
      "text/plain": [
       "<Figure size 864x432 with 1 Axes>"
      ]
     },
     "metadata": {
      "needs_background": "light"
     },
     "output_type": "display_data"
    }
   ],
   "source": [
    "plot_walk(rand_walk(1000))"
   ]
  },
  {
   "cell_type": "markdown",
   "metadata": {},
   "source": [
    "#### Several random walks crearted on the same plot"
   ]
  },
  {
   "cell_type": "code",
   "execution_count": 75,
   "metadata": {},
   "outputs": [],
   "source": [
    "def plot_walks(num,walk_steps):\n",
    "    \n",
    "    lab_list = list(range(1, num+1))\n",
    "    for i in range(0, num):\n",
    "        x = list(range(1, walk_steps+1))\n",
    "        \n",
    "        plt.plot(x,rand_walk(walk_steps),label = 'Plot Number' + ' ' + str(lab_list[i]))\n",
    "        plt.xlabel('Number of Steps')\n",
    "        plt.ylabel('Distance from Origin')\n",
    "        plt.title('My random Walk')\n",
    "        plt.legend(loc='lower left')\n",
    "    plt.show()"
   ]
  },
  {
   "cell_type": "code",
   "execution_count": 78,
   "metadata": {},
   "outputs": [
    {
     "data": {
      "image/png": "[encoded data removed]",
      "text/plain": [
       "<Figure size 864x432 with 1 Axes>"
      ]
     },
     "metadata": {
      "needs_background": "light"
     },
     "output_type": "display_data"
    }
   ],
   "source": [
    "#5 random walks of 100000 steps each\n",
    "plot_walks(5,100000)"
   ]
  }
 ],
 "metadata": {
  "kernelspec": {
   "display_name": "Python 3",
   "language": "python",
   "name": "python3"
  },
  "language_info": {
   "codemirror_mode": {
    "name": "ipython",
    "version": 3
   },
   "file_extension": ".py",
   "mimetype": "text/x-python",
   "name": "python",
   "nbconvert_exporter": "python",
   "pygments_lexer": "ipython3",
   "version": "3.8.5"
  }
 },
 "nbformat": 4,
 "nbformat_minor": 4
}
